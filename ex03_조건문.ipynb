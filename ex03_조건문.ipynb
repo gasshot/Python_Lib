{
 "cells": [
  {
   "cell_type": "markdown",
   "id": "3979fb68",
   "metadata": {},
   "source": [
    "### 조건문 if else\n",
    "    조건식이 True일 경우 실행문장1 실행\n",
    "    조건식이 False일 경우 실행문장2 실행"
   ]
  },
  {
   "cell_type": "code",
   "execution_count": 3,
   "id": "d71feae6",
   "metadata": {
    "scrolled": true
   },
   "outputs": [
    {
     "name": "stdout",
     "output_type": "stream",
     "text": [
      "실행문장1\n",
      "실행문장2\n"
     ]
    }
   ],
   "source": [
    "if True : print('실행문장1')\n",
    "else: print('실행문장2')\n",
    "    \n",
    "    \n",
    "if False : print('실행문장1')\n",
    "else: print('실행문장2')    "
   ]
  },
  {
   "cell_type": "code",
   "execution_count": 5,
   "id": "394c7139",
   "metadata": {},
   "outputs": [
    {
     "name": "stdout",
     "output_type": "stream",
     "text": [
      "얼마나 있쇼 >> 5000\n",
      "버스를 탄다.\n"
     ]
    }
   ],
   "source": [
    "#조건문 선언하기\n",
    "#money라는 변수에 숫자값을 입력받기\n",
    "#money라는 변수가 10000이상이면 '택시를 탄다'를 출력\n",
    "# 10000미만이면 '버스를 탄다'를 출력\n",
    "\n",
    "money = int(input(\"얼마나 있쇼 >> \"))\n",
    "if money>=10000 : print('택시를 탄다.')\n",
    "else: print('버스를 탄다.')\n",
    "\n"
   ]
  },
  {
   "cell_type": "code",
   "execution_count": 10,
   "id": "d079871f",
   "metadata": {},
   "outputs": [
    {
     "name": "stdout",
     "output_type": "stream",
     "text": [
      "정수입력 >> 27\n",
      "3의 배수입니다.\n"
     ]
    }
   ],
   "source": [
    "# 키보드로 변수 num를 입력 받고 이 3의 배수이면서 5의 배수이면 \"\n",
    "#3과 5의 배수입니다.\"를 출력하고 아니라면 \"3과 5의 배수가 아닙니다.\"를 출력하시오\n",
    "\n",
    "\n",
    "num = int(input(\"정수입력 >> \"))\n",
    "\n",
    "\n",
    "if(num % 3 == 0 and num % 5 == 0 ): print(\"3과 5의 배수입니다.\")\n",
    "elif(num % 3 == 0): print(\"3의 배수입니다.\")\n",
    "elif(num % 5 == 0): print(\"5의 배수입니다.\")  \n",
    "else: print(\"3과 5의 배수가 아닙니다.\")\n",
    "\n",
    "\n"
   ]
  },
  {
   "cell_type": "code",
   "execution_count": 13,
   "id": "ef9d4db3",
   "metadata": {},
   "outputs": [
    {
     "name": "stdout",
     "output_type": "stream",
     "text": [
      "정수입력 >> 3\n",
      "3과 5의 배수가 아닙니다.\n"
     ]
    }
   ],
   "source": [
    "num = int(input(\"정수입력 >> \"))\n",
    "\n",
    "\n",
    "boolean = \"입니다.\"if  num % 3 == 0 and num % 5 == 0 else \"가 아닙니다.\"\n",
    "\n",
    "print (\"3과 5의 배수\" + boolean)\n"
   ]
  },
  {
   "attachments": {},
   "cell_type": "markdown",
   "id": "5c33183c",
   "metadata": {},
   "source": [
    "### if elif else문\n",
    "    - 여러 개의 조건을 사용할 때\n",
    "![KakaoTalk_20241219_091100762.png](attachment:KakaoTalk_20241219_091100762.png)\n",
    "    - 주의!\n",
    "        - 반드시 else문을 작성해야 한다?(X)\n",
    "        - 필요 시(한번은 꼭 실행시켜야할 문장이 있을 때)에 작성"
   ]
  },
  {
   "cell_type": "code",
   "execution_count": 3,
   "id": "d84d4986",
   "metadata": {},
   "outputs": [
    {
     "name": "stdout",
     "output_type": "stream",
     "text": [
      "얼마나 있쇼 >> 1001\n",
      "버스를 탄다.\n"
     ]
    }
   ],
   "source": [
    "# 조건문 선언하기\n",
    "# money라는 변수에 숫자값을 입력받기\n",
    "# money라는 변수가 10000이상이면 '택시를 탄다'를 출력\n",
    "# 10000미만이면 '버스를 탄다'를 출력\n",
    "# 1000미만이면 '걸어간다'를 출력\n",
    "\n",
    "\n",
    "money = int(input(\"얼마나 있쇼 >> \"))\n",
    "if money >= 10000 : print('택시를 탄다.')\n",
    "elif money >= 1000 : print('버스를 탄다.')\n",
    "else: print('걸어간다')"
   ]
  },
  {
   "cell_type": "code",
   "execution_count": 7,
   "id": "a0f114e5",
   "metadata": {},
   "outputs": [
    {
     "name": "stdout",
     "output_type": "stream",
     "text": [
      "첫번째 정수입력 >> 7\n",
      "두번째 정수입력 >> 7\n",
      "두 수가 똑같습니다.🤢\n"
     ]
    }
   ],
   "source": [
    "# 변수 num1 과 num2에서 숫자를 입력받아 크기를 비교하시오\n",
    "\n",
    "num1 = int(input(\"첫번째 정수입력 >> \"))\n",
    "num2 = int(input(\"두번째 정수입력 >> \"))\n",
    "\n",
    "str1 = ''\n",
    "\n",
    "if num1 > num2: str1 = '첫 번째 정수가 더 큽니다.'\n",
    "elif num1 < num2 : str1 = '두 번째 정수가 더 큽니다.'\n",
    "else: str1 = '두 수가 똑같습니다.🤢'\n",
    "    \n",
    "    \n",
    "print(str1)\n",
    "\n",
    "\n",
    "\n",
    "\n",
    "\n"
   ]
  }
 ],
 "metadata": {
  "kernelspec": {
   "display_name": "Python 3 (ipykernel)",
   "language": "python",
   "name": "python3"
  },
  "language_info": {
   "codemirror_mode": {
    "name": "ipython",
    "version": 3
   },
   "file_extension": ".py",
   "mimetype": "text/x-python",
   "name": "python",
   "nbconvert_exporter": "python",
   "pygments_lexer": "ipython3",
   "version": "3.11.11"
  }
 },
 "nbformat": 4,
 "nbformat_minor": 5
}
