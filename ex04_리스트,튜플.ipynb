{
 "cells": [
  {
   "cell_type": "markdown",
   "id": "60f91eff",
   "metadata": {},
   "source": [
    "### 리스트란?\n",
    "    - 파이썬의 자료구조 형태중 하나\n",
    "    - 순서가 있는 수정가능한 객체의 집합\n",
    "    - 대괄호([])작성되어지며, 리스트 내부의 값은 (,)으로 구본\n",
    "    - 하나의 리스트에 다양한 자료형 포함\n",
    "    - 추가,수정,삭제가능"
   ]
  },
  {
   "cell_type": "markdown",
   "id": "d8bcaeb2",
   "metadata": {},
   "source": [
    "    a = []\n",
    "    b = [1,2,3]\n",
    "    c = ['My','name','is','KIO']\n",
    "    d = []"
   ]
  },
  {
   "cell_type": "markdown",
   "id": "eeb102ab",
   "metadata": {},
   "source": [
    "### 1.리스트\n",
    "    - 파이썬의 자료구조 형태 중 하나로, 많은 양의 데이터를 하나로 묶어서 관리할 때 편리함\n",
    "    - 하나의 리스트 안에 다양한 자료형을 담을 수 있다!(문자열, 정수형태 등 데이터를 한 공간에 넣기 가능)\n",
    "    - 대괄호 '[]'사용해서 생성하고, 리스트 내부의 밧은 콤마(,)로 구분\n",
    "    - 순서가 있는 객체들의 집합(인덱스 번호가 있다->인덱싱, 슬라싱 가능) 0부터 시작!\n",
    "    - 리시트 안의 값들을 추가, 수정, 삭제 가능\n",
    "    - 리스트명 = [요소1, 요소2, 요소3,...]"
   ]
  },
  {
   "cell_type": "code",
   "execution_count": 2,
   "id": "9a17735c",
   "metadata": {},
   "outputs": [],
   "source": [
    "#리스트 선언하기\n",
    "\n",
    "list1 =[] # 빈 리스트도 선언 가능\n",
    "str1 = ''\n",
    "\n",
    "\n",
    "\n",
    "\n",
    "\n"
   ]
  },
  {
   "cell_type": "code",
   "execution_count": 3,
   "id": "289d1640",
   "metadata": {},
   "outputs": [
    {
     "name": "stdout",
     "output_type": "stream",
     "text": [
      "[1, 2, 3, 4, 5]\n"
     ]
    }
   ],
   "source": [
    "list2 =[1,2,3,4,5]\n",
    "print(list2)"
   ]
  },
  {
   "cell_type": "code",
   "execution_count": 4,
   "id": "22830f65",
   "metadata": {},
   "outputs": [
    {
     "name": "stdout",
     "output_type": "stream",
     "text": [
      "[12, 19, '스마트인재개발원', '인공지능반', 8]\n"
     ]
    }
   ],
   "source": [
    "# 서로 다른 자료형도 같이 넣을 수 있다\n",
    "list3 =[12, 19, '스마트인재개발원', '인공지능반', 8]\n",
    "print(list3)"
   ]
  },
  {
   "cell_type": "code",
   "execution_count": 5,
   "id": "a4be8e7f",
   "metadata": {
    "scrolled": true
   },
   "outputs": [
    {
     "name": "stdout",
     "output_type": "stream",
     "text": [
      "['강인오', ['12/19', '파이썬', 4], 20]\n"
     ]
    }
   ],
   "source": [
    "list4 =[\"강인오\",['12/19','파이썬', 4],20]\n",
    "print(list4)"
   ]
  },
  {
   "cell_type": "markdown",
   "id": "1899c759",
   "metadata": {},
   "source": [
    "### 리스트 인덱싱, 슬라이싱\n",
    "    - 인덱싱 : 무엇인가를 '가리킨다'는 의미\n",
    "    - 슬라이싱 : 무엇인가를 '잘라낸다'는 의미\n",
    "        ex) 리스트명[시작인덱스번호 : 끝인덱스번호 + 1]"
   ]
  },
  {
   "cell_type": "code",
   "execution_count": 7,
   "id": "6a6da647",
   "metadata": {},
   "outputs": [
    {
     "data": {
      "text/plain": [
       "[51, 34, 24, 25]"
      ]
     },
     "execution_count": 7,
     "metadata": {},
     "output_type": "execute_result"
    }
   ],
   "source": [
    "list5 =[10,51,34,24,25,42,3,5,4,2]\n",
    "\n",
    "# 숫자 34 가져오기 -> 인덱싱\n",
    "list5[2]\n",
    "\n",
    "# 숫자 4 가져오기 -> 인덱싱\n",
    "list5[8]\n",
    "list5[-2]\n",
    "\n",
    "# 숫자 51부터 25 가져오기 -> 슬라이싱\n",
    "\n",
    "list5[1:5]\n",
    "\n",
    "# 숫자 10부터 24 가져오기 -> 슬라이싱\n",
    "\n",
    "list5[:4]\n",
    "\n",
    "# 숫자 3부터 2 가져오기 -> 슬라이싱\n",
    "list5[-4:]\n"
   ]
  },
  {
   "cell_type": "code",
   "execution_count": 10,
   "id": "1319d391",
   "metadata": {},
   "outputs": [
    {
     "data": {
      "text/plain": [
       "'와'"
      ]
     },
     "execution_count": 10,
     "metadata": {},
     "output_type": "execute_result"
    }
   ],
   "source": [
    "food_list = ['제육볶음', '국밥', '초밥', '우동', '케이크',['불','고','기','와','퍼']]\n",
    "\n",
    "\n",
    "#  ['불','고','기','와','퍼'] 가져오기\n",
    "temp = food_list[-1]\n",
    "#  리스트 안의 또 다른 리스트를 출력 ->\n",
    "\n",
    "temp[-2]\n",
    "\n",
    "food_list[-1][-2]"
   ]
  },
  {
   "cell_type": "code",
   "execution_count": 12,
   "id": "f7734e68",
   "metadata": {},
   "outputs": [
    {
     "data": {
      "text/plain": [
       "5"
      ]
     },
     "execution_count": 12,
     "metadata": {},
     "output_type": "execute_result"
    }
   ],
   "source": [
    "num_list = [0,1,2,3,4,[2,5,6,8]]\n",
    "\n",
    "# 숫자 5 가져오기\n",
    "\n",
    "num_list[-1][1]"
   ]
  },
  {
   "cell_type": "code",
   "execution_count": 15,
   "id": "934d48de",
   "metadata": {},
   "outputs": [
    {
     "data": {
      "text/plain": [
       "[1, 2, 3, 4, 5, 6]"
      ]
     },
     "execution_count": 15,
     "metadata": {},
     "output_type": "execute_result"
    }
   ],
   "source": [
    "# 리스트 연산\n",
    "list6 = [1,2,3]\n",
    "list7 = [4,5,6]\n",
    "\n",
    "list6 + list7 # 이어 붙이기"
   ]
  },
  {
   "cell_type": "code",
   "execution_count": 16,
   "id": "2870c7cf",
   "metadata": {},
   "outputs": [
    {
     "data": {
      "text/plain": [
       "[1, 2, 3, 1, 2, 3, 1, 2, 3]"
      ]
     },
     "execution_count": 16,
     "metadata": {},
     "output_type": "execute_result"
    }
   ],
   "source": [
    "list6 * 3"
   ]
  },
  {
   "cell_type": "markdown",
   "id": "b55be21d",
   "metadata": {},
   "source": [
    "### 리스트 함수\n",
    "    1. 리스트 값을 추가 (append)\n",
    "    - 가장 뒤에 값이 차곡차곡 추가"
   ]
  },
  {
   "cell_type": "code",
   "execution_count": 27,
   "id": "62eeb434",
   "metadata": {},
   "outputs": [
    {
     "data": {
      "text/plain": [
       "[0, 1, 2, 3, 4, 5]"
      ]
     },
     "execution_count": 27,
     "metadata": {},
     "output_type": "execute_result"
    }
   ],
   "source": [
    "# 리스트의 제일 뒤에 숫자 5을 추가하기\n",
    "# 리스트명.append(값)\n",
    "\n",
    "list8 = [0,1,2,3,4]\n",
    "\n",
    "list8.append(5)\n",
    "list8"
   ]
  },
  {
   "cell_type": "code",
   "execution_count": 36,
   "id": "df3ad300",
   "metadata": {},
   "outputs": [
    {
     "data": {
      "text/plain": [
       "['사과', '멜론', '오렌지']"
      ]
     },
     "execution_count": 36,
     "metadata": {},
     "output_type": "execute_result"
    }
   ],
   "source": [
    "fruits = ['사과', '포도', ['수박','멜론'],'오렌지']\n",
    "choice_list = []\n",
    "\n",
    "apple = fruits[0]\n",
    "melon = fruits[2][1]\n",
    "orange = fruits[3]\n",
    "\n",
    "\n",
    "myList = [apple, melon, orange]\n",
    "\n",
    "# 반복문으로 choice_list에 추가\n",
    "for item in myList:\n",
    "    choice_list.append(item)\n",
    "\n",
    "\n",
    "\n",
    "#choice_list.append(apple)\n",
    "#choice_list.append(melon)\n",
    "#choice_list.append(orange)\n",
    "\n",
    "choice_list\n"
   ]
  },
  {
   "cell_type": "markdown",
   "id": "5dc1fc7b",
   "metadata": {},
   "source": [
    "### 2. 원하는 인덱스 위치에 값을 추가\n",
    "    - 리스트명.insert(원하는 인덱스 번호, 넣고 싶은 값)"
   ]
  },
  {
   "cell_type": "code",
   "execution_count": 37,
   "id": "a07fcce8",
   "metadata": {},
   "outputs": [
    {
     "name": "stdout",
     "output_type": "stream",
     "text": [
      "['사과', '멜론', '포도', '오렌지']\n"
     ]
    }
   ],
   "source": [
    "# 인덱스 1 위치에 '수박' 추가\n",
    "choice_list.insert(2, fruits[1])\n",
    "\n",
    "print(choice_list)  # ['사과', '수박', '포도', '오렌지']"
   ]
  },
  {
   "cell_type": "markdown",
   "id": "bec39330",
   "metadata": {},
   "source": [
    "### 3. 리스트 값을 수정\n",
    "    - 리스트명[인덱스번호] = 값\n",
    "    - 수정하고 싶은 인덱스에 접근하여 수정"
   ]
  },
  {
   "cell_type": "code",
   "execution_count": 44,
   "id": "0acb9eb2",
   "metadata": {},
   "outputs": [
    {
     "name": "stdout",
     "output_type": "stream",
     "text": [
      "[2, 3, 9]\n"
     ]
    }
   ],
   "source": [
    "list9 = [2,7,1,8,9]\n",
    "\n",
    "\n",
    "# 숫자 1을 5로 수정\n",
    "list9[2] = 5\n",
    "list9\n",
    "\n",
    "# 7부터 8까지의 값을 3으로 수정\n",
    "list9[1:4] = [3]  # 슬라이싱을 사용해 7, 1, 8을 3으로 변경\n",
    "print(list9)  # [2, 3, 9]\n"
   ]
  },
  {
   "cell_type": "code",
   "execution_count": 51,
   "id": "c3c38079",
   "metadata": {
    "scrolled": false
   },
   "outputs": [
    {
     "name": "stdout",
     "output_type": "stream",
     "text": [
      "[1, 2, 3, 4, 7]\n",
      "[1, ['a', 'b', 'c'], 3, 4, 7]\n",
      "[1, ['a', 'b', 'c'], 3]\n"
     ]
    }
   ],
   "source": [
    "array = [1,2,3,4,5]\n",
    "\n",
    "# array에 숫자5를 7로 바꾸시오\n",
    "array[4] = 7\n",
    "print(array)\n",
    "# array에 숫자2를 리스트[a,b,c]로 바꾸시오\n",
    "array[1] = ['a','b','c']\n",
    "print(array)\n",
    "\n",
    "\n",
    "# array에 4,7를 d,e,f,g로 바꾸시오\n",
    "array[3:] = ['d','e','f','g']\n",
    "print(array)"
   ]
  },
  {
   "cell_type": "code",
   "execution_count": null,
   "id": "dd3020a6",
   "metadata": {},
   "outputs": [],
   "source": []
  },
  {
   "cell_type": "markdown",
   "id": "ba8b0428",
   "metadata": {},
   "source": [
    "### 4. 리스트 값을 삭제\n",
    "    - 인덱스 번호 활용 : del 리스트명[인덱스번호]\n",
    "    - 값을 활용하여 삭제 : 리스트명.remove(값)\n",
    "    - 값을 삭제하고 반환 : 리스트명.pop(인덱스번호)"
   ]
  },
  {
   "cell_type": "code",
   "execution_count": 54,
   "id": "080b5c85",
   "metadata": {
    "scrolled": true
   },
   "outputs": [
    {
     "name": "stdout",
     "output_type": "stream",
     "text": [
      "['a', 'b', 'd', 'e']\n",
      "['a', 'b', 'e']\n"
     ]
    }
   ],
   "source": [
    "list10 = ['a', 'b', 'c', 'd','e']\n",
    "\n",
    "# 인덱스 2의 값('c') 삭제\n",
    "del list10[2]\n",
    "\n",
    "print(list10)  # ['a', 'b',  d', 'e']\n",
    "\n",
    "\n",
    "# 함수를 사용해서 'd'라는 값을 삭제\n",
    "list10.remove('d')\n",
    "\n",
    "print(list10)  # ['a', 'b', 'e']"
   ]
  },
  {
   "cell_type": "markdown",
   "id": "159b81e2",
   "metadata": {},
   "source": [
    "### 5. 리스트 정렬\n",
    "    - 리스트명.sort()"
   ]
  },
  {
   "cell_type": "code",
   "execution_count": 58,
   "id": "c5e2c6a0",
   "metadata": {},
   "outputs": [
    {
     "name": "stdout",
     "output_type": "stream",
     "text": [
      "[3, 9, 13, 51, 77, 100]\n",
      "[100, 77, 51, 13, 9, 3]\n"
     ]
    }
   ],
   "source": [
    "list11 = [9,77,13,51,100,3]\n",
    "\n",
    "list11.sort() # 오름차순 정렬(기본)\n",
    "\n",
    "print(list11)\n",
    "\n",
    "list11.sort(reverse = True) # 내림차순 정렬\n",
    "\n",
    "print(list11)"
   ]
  },
  {
   "cell_type": "markdown",
   "id": "0263626a",
   "metadata": {},
   "source": [
    "### 6. 리스트 순서 뒤집기\n",
    "    - 리스트명.reverse()"
   ]
  },
  {
   "cell_type": "code",
   "execution_count": 60,
   "id": "f9e20e14",
   "metadata": {},
   "outputs": [
    {
     "name": "stdout",
     "output_type": "stream",
     "text": [
      "[3, 100, 51, 13, 77, 9]\n"
     ]
    }
   ],
   "source": [
    "list12 = [9,77,13,51,100,3]\n",
    "list12.reverse()\n",
    "print(list12)"
   ]
  },
  {
   "cell_type": "markdown",
   "id": "1c810ce5",
   "metadata": {},
   "source": [
    "### 7. 리스트 값 위치 찾기\n",
    "    - 리스트명.index(값)"
   ]
  },
  {
   "cell_type": "code",
   "execution_count": 63,
   "id": "644d9510",
   "metadata": {
    "scrolled": true
   },
   "outputs": [
    {
     "data": {
      "text/plain": [
       "3"
      ]
     },
     "execution_count": 63,
     "metadata": {},
     "output_type": "execute_result"
    }
   ],
   "source": [
    "list12.index(13) ## 13이 list12의 인덱스를 반환"
   ]
  },
  {
   "cell_type": "markdown",
   "id": "b33dd7a8",
   "metadata": {},
   "source": [
    "### 8. 리스트 길이(값의 개수 확인)\n",
    "    - len(리스트명)"
   ]
  },
  {
   "cell_type": "code",
   "execution_count": 64,
   "id": "12a450e9",
   "metadata": {},
   "outputs": [
    {
     "data": {
      "text/plain": [
       "6"
      ]
     },
     "execution_count": 64,
     "metadata": {},
     "output_type": "execute_result"
    }
   ],
   "source": [
    "len(list12)"
   ]
  },
  {
   "cell_type": "markdown",
   "id": "52326216",
   "metadata": {},
   "source": [
    "# 튜플\n",
    "\n",
    "    튜플(tuple)이란?\n",
    "        - 파이썬의 자료 구조 형태중 하나, 많은 양의 데이터를 하나로 묶어서 관리할 때 편리함\n",
    "        - 하나의 튜플 안에 다양한 자료형을 담을 수 있다!\n",
    "        - 소괄호(())로 작성되어지며, 튜플의 내부 값은 코마(,)로 구분\n",
    "        - 순서가 있는 객체들의 집합\n",
    "        - 튜플 안의 값들을 추가, 수정, 삭제 '불가능'\n",
    "        \n",
    "    튜플명 = (요소1,요소2,요소3,...)    "
   ]
  },
  {
   "cell_type": "code",
   "execution_count": 66,
   "id": "59dd2980",
   "metadata": {},
   "outputs": [],
   "source": [
    "# 튜플 선언하기\n",
    "a = ()\n",
    "b = (1,2,3)\n",
    "c = ('a','b','c')\n",
    "d = (1,2,'a','b')\n",
    "e = (1,2, (5,2),'a',[2,3])"
   ]
  },
  {
   "cell_type": "code",
   "execution_count": 67,
   "id": "1d9d2db3",
   "metadata": {
    "scrolled": true
   },
   "outputs": [
    {
     "data": {
      "text/plain": [
       "5"
      ]
     },
     "execution_count": 67,
     "metadata": {},
     "output_type": "execute_result"
    }
   ],
   "source": [
    "# 튜플 안의 튜플 인덱싱\n",
    "e[2][0]"
   ]
  },
  {
   "cell_type": "markdown",
   "id": "d3d471d8",
   "metadata": {},
   "source": [
    "### 리스트와 튜플의 공통점과 차이점\n",
    "    - 공통점\n",
    "        1. 요소(값)의 순서를 관리할 수 있음(인덱싱, 슬라이싱 가능)\n",
    "        2. 타입과 상관 없이 일련의 요소(값)을 가질 수 있음\n",
    "    - 차이점\n",
    "        1. []선언, ()선언 차이\n",
    "        2. 리스트(값을 수정 가능) -  가변적(mutable) : 튜플(값을 수정 불가능) - 불변적(immutable)\n",
    "        3. 리스트는 요소가 몇 개 들어갈지 명확하지 않은 경우 사용\n",
    "        4. 튜플은 요소 개수를 사전에 정확히 알 고 있을 경우 사용"
   ]
  }
 ],
 "metadata": {
  "kernelspec": {
   "display_name": "Python 3 (ipykernel)",
   "language": "python",
   "name": "python3"
  },
  "language_info": {
   "codemirror_mode": {
    "name": "ipython",
    "version": 3
   },
   "file_extension": ".py",
   "mimetype": "text/x-python",
   "name": "python",
   "nbconvert_exporter": "python",
   "pygments_lexer": "ipython3",
   "version": "3.11.11"
  }
 },
 "nbformat": 4,
 "nbformat_minor": 5
}
