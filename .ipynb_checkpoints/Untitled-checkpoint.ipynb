{
 "cells": [
  {
   "cell_type": "code",
   "execution_count": 1,
   "id": "9c9efbd3-925c-4511-af0a-68ebb226b597",
   "metadata": {},
   "outputs": [
    {
     "data": {
      "text/plain": [
       "[['101호', '102호'], ['201호', '202호'], ['301호', '302호']]"
      ]
     },
     "execution_count": 1,
     "metadata": {},
     "output_type": "execute_result"
    }
   ],
   "source": [
    "apart = []\n",
    "\n",
    "for i in range(1,4,1):\n",
    "    tempList = [f'{(i * 100) + 1}호', f'{(i * 100) + 2}호']\n",
    "    apart.append(tempList)\n",
    "\n",
    "apart\n",
    "\n",
    "\n",
    "\n"
   ]
  },
  {
   "cell_type": "code",
   "execution_count": 4,
   "id": "a92a0bdd-59d0-4397-afc7-a5798a6a03da",
   "metadata": {},
   "outputs": [
    {
     "name": "stdout",
     "output_type": "stream",
     "text": [
      "101 호\n",
      "102 호\n",
      "201 호\n",
      "202 호\n",
      "301 호\n",
      "302 호\n"
     ]
    }
   ],
   "source": [
    "apart = [ [101, 102], [201, 202], [301, 302] ]\n",
    "\n",
    "\n",
    "for houses in apart:\n",
    "    for house in houses:\n",
    "        print(str(house) + ' 호')"
   ]
  },
  {
   "cell_type": "code",
   "execution_count": 6,
   "id": "f28a3451-cc39-4c7e-bce0-3c35b2836921",
   "metadata": {},
   "outputs": [
    {
     "name": "stdout",
     "output_type": "stream",
     "text": [
      "301 호\n",
      "302 호\n",
      "201 호\n",
      "202 호\n",
      "101 호\n",
      "102 호\n"
     ]
    }
   ],
   "source": [
    "for i in range(len(apart) - 1, -1, -1):\n",
    "    for house in apart[i]:\n",
    "        print(str(house) + ' 호')"
   ]
  },
  {
   "cell_type": "code",
   "execution_count": null,
   "id": "4eb4769b-63f7-4c5b-9c29-b3559b067bfa",
   "metadata": {},
   "outputs": [],
   "source": [
    "# 'apart' 리스트를 역순으로 순회하며 각 세대의 호수를 출력하는 코드\n",
    "for row in apart[::-1]:  # 'apart' 리스트를 역순으로 순회 (위에서 아래로가 아닌 아래에서 위로 순회)\n",
    "    for col in row:  # 각 층(row)의 세대를 순회\n",
    "        print(col, \"호\")  # 세대 번호에 \"호\"를 붙여 출력"
   ]
  },
  {
   "cell_type": "code",
   "execution_count": 7,
   "id": "839b4e41-6b35-4e7e-b08e-f39f17286256",
   "metadata": {},
   "outputs": [
    {
     "name": "stdout",
     "output_type": "stream",
     "text": [
      "101 호\n",
      "-----\n",
      "102 호\n",
      "-----\n",
      "201 호\n",
      "-----\n",
      "202 호\n",
      "-----\n",
      "301 호\n",
      "-----\n",
      "302 호\n",
      "-----\n"
     ]
    }
   ],
   "source": [
    "for houses in apart:\n",
    "    for house in houses:\n",
    "        print(str(house) + ' 호')\n",
    "        print('-----')"
   ]
  },
  {
   "cell_type": "code",
   "execution_count": 15,
   "id": "fd6ff6dc-acc0-448e-8ab0-7d6ded6b3f84",
   "metadata": {},
   "outputs": [
    {
     "name": "stdout",
     "output_type": "stream",
     "text": [
      "101 호\n",
      "\n",
      "102 호\n",
      "\n",
      "201 호\n",
      "\n",
      "202 호\n",
      "\n",
      "301 호\n",
      "\n",
      "302 호\n",
      "-----\n"
     ]
    }
   ],
   "source": [
    "for i in range(len(apart)):\n",
    "    for j in range(len(apart[i])):\n",
    "        print(str(apart[i][j]) + ' 호')\n",
    "        print('-----' * (1 if i >= (len(apart) -1) and j >= (len(apart[i]) -1) else 0))"
   ]
  },
  {
   "cell_type": "code",
   "execution_count": 38,
   "id": "b3540a33-86f7-4177-bfdf-6ffa6c18b79b",
   "metadata": {},
   "outputs": [
    {
     "name": "stdout",
     "output_type": "stream",
     "text": [
      "2000.28\n",
      "3050.427\n",
      "2050.2870000000003\n",
      "1980.2772\n",
      "-----\n",
      "7501.05\n",
      "2050.2870000000003\n",
      "2050.2870000000003\n",
      "1980.2772\n",
      "-----\n",
      "15452.163\n",
      "15052.107\n",
      "15552.177\n",
      "14902.086000000001\n",
      "-----\n"
     ]
    }
   ],
   "source": [
    "data = [\n",
    "    [ 2000,  3050,  2050,  1980],\n",
    "    [ 7500,  2050,  2050,  1980],\n",
    "    [15450, 15050, 15550, 14900]\n",
    "]\n",
    "\n",
    "for i in range(len(data)):\n",
    "    for j in range(len(data[i])):\n",
    "        print(data[i][j] * (1 + 14 / 100000))\n",
    "        if (j >= (len(data[i]) - 1)): \n",
    "            print('-' * 5)"
   ]
  },
  {
   "cell_type": "code",
   "execution_count": 39,
   "id": "96b9e69c-4051-4771-a233-21ffae963dcb",
   "metadata": {},
   "outputs": [
    {
     "name": "stdout",
     "output_type": "stream",
     "text": [
      "[2000.28, 3050.427, 2050.2870000000003, 1980.2772, 7501.05, 2050.2870000000003, 2050.2870000000003, 1980.2772, 15452.163, 15052.107, 15552.177, 14902.086000000001]\n"
     ]
    }
   ],
   "source": [
    "result = []\n",
    "for i in range(len(data)):\n",
    "    for j in range(len(data[i])):\n",
    "        check = data[i][j] * (1 + 14 / 100000)\n",
    "        result.append(check)\n",
    "print(result)"
   ]
  },
  {
   "cell_type": "code",
   "execution_count": 41,
   "id": "44bbcf37-a7c6-46ea-b4f2-2ba722ebb0eb",
   "metadata": {},
   "outputs": [
    {
     "name": "stdout",
     "output_type": "stream",
     "text": [
      "100\n",
      "190\n",
      "310\n",
      "190\n",
      "310\n"
     ]
    }
   ],
   "source": [
    "ohlc = [[\"open\", \"high\", \"low\", \"close\"],\n",
    "        [100, 110, 70, 100],\n",
    "        [200, 210, 180, 190],\n",
    "        [300, 310, 300, 310]]\n",
    "\n",
    "for i in range(1,len(ohlc)):\n",
    "    print(ohlc[i][3])\n",
    "\n",
    "for i in range(1,len(ohlc)):\n",
    "    temp = ohlc[i][3]\n",
    "    if(temp > 150):\n",
    "        print(temp)\n"
   ]
  },
  {
   "cell_type": "code",
   "execution_count": 42,
   "id": "56a7943d-504a-4d94-b030-999621cb9598",
   "metadata": {},
   "outputs": [
    {
     "name": "stdout",
     "output_type": "stream",
     "text": [
      "100\n",
      "310\n"
     ]
    }
   ],
   "source": [
    "for i in range(1,len(ohlc)):\n",
    "    if(ohlc[i][0] <= ohlc[i][3]):\n",
    "       print(ohlc[i][3])"
   ]
  },
  {
   "cell_type": "code",
   "execution_count": 47,
   "id": "7fafb119-343d-449d-8c7c-e4969b0f1be2",
   "metadata": {},
   "outputs": [
    {
     "name": "stdout",
     "output_type": "stream",
     "text": [
      "10\n"
     ]
    }
   ],
   "source": [
    "velocity = []\n",
    "\n",
    "\n",
    "for i in range(1,len(ohlc)):\n",
    "    if(ohlc[i][0] < ohlc[i][3]):\n",
    "        print(ohlc[i][1] - ohlc[i][2])\n"
   ]
  },
  {
   "cell_type": "code",
   "execution_count": 49,
   "id": "e103f9a8-99c4-4785-ba4c-77ca3a54d026",
   "metadata": {},
   "outputs": [
    {
     "name": "stdout",
     "output_type": "stream",
     "text": [
      "0\n"
     ]
    }
   ],
   "source": [
    "sumary = 0\n",
    "\n",
    "ohlc = [[\"open\", \"high\", \"low\", \"close\"],\n",
    "        [100, 110, 70, 100],\n",
    "        [200, 210, 180, 190],\n",
    "        [300, 310, 300, 310]]\n",
    "\n",
    "\n",
    "for datas in ohlc[1:]:\n",
    "    temp = datas[0] - datas[3]\n",
    "    sumary += temp\n",
    "\n",
    "print(sumary)"
   ]
  }
 ],
 "metadata": {
  "kernelspec": {
   "display_name": "Python 3 (ipykernel)",
   "language": "python",
   "name": "python3"
  },
  "language_info": {
   "codemirror_mode": {
    "name": "ipython",
    "version": 3
   },
   "file_extension": ".py",
   "mimetype": "text/x-python",
   "name": "python",
   "nbconvert_exporter": "python",
   "pygments_lexer": "ipython3",
   "version": "3.12.7"
  }
 },
 "nbformat": 4,
 "nbformat_minor": 5
}
