{
 "cells": [
  {
   "cell_type": "markdown",
   "id": "3979fb68",
   "metadata": {},
   "source": [
    "### 조건문 if else\n",
    "    조건식이 True일 경우 실행문장1 실행\n",
    "    조건식이 False일 경우 실행문장2 실행"
   ]
  },
  {
   "cell_type": "code",
   "execution_count": 3,
   "id": "d71feae6",
   "metadata": {
    "scrolled": true
   },
   "outputs": [
    {
     "name": "stdout",
     "output_type": "stream",
     "text": [
      "실행문장1\n",
      "실행문장2\n"
     ]
    }
   ],
   "source": [
    "if True : print('실행문장1')\n",
    "else: print('실행문장2')\n",
    "    \n",
    "    \n",
    "if False : print('실행문장1')\n",
    "else: print('실행문장2')    "
   ]
  },
  {
   "cell_type": "code",
   "execution_count": 5,
   "id": "394c7139",
   "metadata": {},
   "outputs": [
    {
     "name": "stdout",
     "output_type": "stream",
     "text": [
      "얼마나 있쇼 >> 5000\n",
      "버스를 탄다.\n"
     ]
    }
   ],
   "source": [
    "#조건문 선언하기\n",
    "#money라는 변수에 숫자값을 입력받기\n",
    "#money라는 변수가 10000이상이면 '택시를 탄다'를 출력\n",
    "# 10000미만이면 '버스를 탄다'를 출력\n",
    "\n",
    "money = int(input(\"얼마나 있쇼 >> \"))\n",
    "if money>=10000 : print('택시를 탄다.')\n",
    "else: print('버스를 탄다.')\n",
    "\n"
   ]
  },
  {
   "cell_type": "code",
   "execution_count": 10,
   "id": "d079871f",
   "metadata": {},
   "outputs": [
    {
     "name": "stdout",
     "output_type": "stream",
     "text": [
      "정수입력 >> 27\n",
      "3의 배수입니다.\n"
     ]
    }
   ],
   "source": [
    "# 키보드로 변수 num를 입력 받고 이 3의 배수이면서 5의 배수이면 \"\n",
    "#3과 5의 배수입니다.\"를 출력하고 아니라면 \"3과 5의 배수가 아닙니다.\"를 출력하시오\n",
    "\n",
    "\n",
    "num = int(input(\"정수입력 >> \"))\n",
    "\n",
    "\n",
    "if(num % 3 == 0 and num % 5 == 0 ): print(\"3과 5의 배수입니다.\")\n",
    "elif(num % 3 == 0): print(\"3의 배수입니다.\")\n",
    "elif(num % 5 == 0): print(\"5의 배수입니다.\")  \n",
    "else: print(\"3과 5의 배수가 아닙니다.\")\n",
    "\n",
    "\n"
   ]
  },
  {
   "cell_type": "code",
   "execution_count": 13,
   "id": "ef9d4db3",
   "metadata": {},
   "outputs": [
    {
     "name": "stdout",
     "output_type": "stream",
     "text": [
      "정수입력 >> 3\n",
      "3과 5의 배수가 아닙니다.\n"
     ]
    }
   ],
   "source": [
    "num = int(input(\"정수입력 >> \"))\n",
    "\n",
    "\n",
    "boolean = \"입니다.\"if  num % 3 == 0 and num % 5 == 0 else \"가 아닙니다.\"\n",
    "\n",
    "print (\"3과 5의 배수\" + boolean)\n"
   ]
  },
  {
   "cell_type": "code",
   "execution_count": null,
   "id": "ff7aba87",
   "metadata": {},
   "outputs": [],
   "source": []
  }
 ],
 "metadata": {
  "kernelspec": {
   "display_name": "Python 3 (ipykernel)",
   "language": "python",
   "name": "python3"
  },
  "language_info": {
   "codemirror_mode": {
    "name": "ipython",
    "version": 3
   },
   "file_extension": ".py",
   "mimetype": "text/x-python",
   "name": "python",
   "nbconvert_exporter": "python",
   "pygments_lexer": "ipython3",
   "version": "3.11.11"
  }
 },
 "nbformat": 4,
 "nbformat_minor": 5
}
