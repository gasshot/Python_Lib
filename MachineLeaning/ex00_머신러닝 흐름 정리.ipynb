{
 "cells": [
  {
   "cell_type": "markdown",
   "id": "e7e0e3c6-a168-4ad6-95b0-f5eb1cab84b3",
   "metadata": {
    "jp-MarkdownHeadingCollapsed": true
   },
   "source": [
    "# 1. 문제 정의\n",
    "    - 머신러닝으로 어떤 것을 해결할 것인가를 정하기"
   ]
  },
  {
   "cell_type": "markdown",
   "id": "5b4ae144-706e-4ba6-9981-8dec056e751d",
   "metadata": {},
   "source": [
    "# 2. 데이터 수집\n",
    "    - 정의된 문제를 해결하기 위한 데이터 모으기"
   ]
  },
  {
   "cell_type": "code",
   "execution_count": 1,
   "id": "754d0309-1b64-43c4-8530-eb551338a2fe",
   "metadata": {},
   "outputs": [],
   "source": [
    "import numpy as np\n",
    "import pandas as pd"
   ]
  },
  {
   "cell_type": "markdown",
   "id": "57b13ece-55cb-4dc8-a937-9a4205a3b4d3",
   "metadata": {},
   "source": [
    "# 3. 데이터 전처리\n",
    "    - 수집된 데이터를 학습할 수 있는 형태로 처리하기"
   ]
  },
  {
   "cell_type": "code",
   "execution_count": null,
   "id": "d89a5ca7-4999-4f94-b860-e76ce06123e9",
   "metadata": {},
   "outputs": [],
   "source": [
    "# value_counts() : 컬럼안에서 값의 갯수 세기\n",
    "# fillna() : 결측기 채우기\n",
    "# info() : 데이터 전반적으로 확인하기"
   ]
  },
  {
   "cell_type": "markdown",
   "id": "8ba5907d-0339-4380-9f8e-c7b50639901d",
   "metadata": {},
   "source": [
    "# 4. 탐색적 데이터 분석\n",
    "    - 데이터의 특징, 생김새 확인하기"
   ]
  },
  {
   "cell_type": "code",
   "execution_count": null,
   "id": "4304d351-c2e7-4618-a978-4f55b55bf738",
   "metadata": {},
   "outputs": [],
   "source": [
    "import matplotlib.pyplot as plt\n",
    "import seaborn as"
   ]
  },
  {
   "cell_type": "markdown",
   "id": "051e8e8d-0741-4955-a5b6-d607ba1d0198",
   "metadata": {},
   "source": [
    "# 5. 모델 선택 및 하이퍼 파라미터 튜닝\n",
    "    - 데이터에 어울리는 모델 찾기\n",
    "    - 모델 세부 기능 설정하기"
   ]
  },
  {
   "cell_type": "code",
   "execution_count": null,
   "id": "c2dfa10c-02ee-4b92-a0cd-7dd8f6889d09",
   "metadata": {},
   "outputs": [],
   "source": [
    "# 머신러닝에서는 sklearn\n",
    "# 딥러닝에서는 tensorflow"
   ]
  },
  {
   "cell_type": "markdown",
   "id": "332d14b3-3174-47b1-89dc-b903f4f035c1",
   "metadata": {},
   "source": [
    "# 6. 학습\n",
    "    - 모델이 데이터에서 규칙 찾기"
   ]
  },
  {
   "cell_type": "code",
   "execution_count": null,
   "id": "243a9a39-6945-4f46-b016-03a274cd3254",
   "metadata": {},
   "outputs": [],
   "source": [
    "# model.fit(X_train, y_train)"
   ]
  },
  {
   "cell_type": "markdown",
   "id": "f6b222ba-c61e-407d-9d67-5f7b3d0546af",
   "metadata": {},
   "source": [
    "# 7. 평가 및 예측\n",
    "    - 평가 : 만들어진 규칙이 어마나 정확한지 알아보기\n",
    "    - 예측 : 만들어진 규칙 사용해보기"
   ]
  },
  {
   "cell_type": "code",
   "execution_count": null,
   "id": "112c52ce-9897-422a-913e-4a6ffdd12b52",
   "metadata": {},
   "outputs": [],
   "source": [
    "# model.predict(X_test)\n",
    "# model.score(X_test, y_test)"
   ]
  }
 ],
 "metadata": {
  "kernelspec": {
   "display_name": "Python 3 (ipykernel)",
   "language": "python",
   "name": "python3"
  },
  "language_info": {
   "codemirror_mode": {
    "name": "ipython",
    "version": 3
   },
   "file_extension": ".py",
   "mimetype": "text/x-python",
   "name": "python",
   "nbconvert_exporter": "python",
   "pygments_lexer": "ipython3",
   "version": "3.12.7"
  }
 },
 "nbformat": 4,
 "nbformat_minor": 5
}
