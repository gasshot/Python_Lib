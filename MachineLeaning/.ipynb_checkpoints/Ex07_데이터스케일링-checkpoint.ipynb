{
 "cells": [
  {
   "cell_type": "code",
   "execution_count": 3,
   "id": "1f870fa2-6181-4f5d-97d4-2f8870e8f6c4",
   "metadata": {},
   "outputs": [],
   "source": [
    "import numpy as np\n",
    "import pandas as pd\n",
    "\n",
    "from sklearn.datasets import fetch_openml"
   ]
  },
  {
   "cell_type": "code",
   "execution_count": 5,
   "id": "363f32cf-3650-441d-a315-48551d2103c4",
   "metadata": {},
   "outputs": [],
   "source": [
    "from sklearn.datasets import load_breast_cancer\n",
    "cancer = load_breast_cancer()"
   ]
  },
  {
   "cell_type": "code",
   "execution_count": 6,
   "id": "05fafdf0-854c-48b3-8644-07d57ecb51f9",
   "metadata": {},
   "outputs": [
    {
     "data": {
      "text/plain": [
       "array(['malignant', 'benign'], dtype='<U9')"
      ]
     },
     "execution_count": 6,
     "metadata": {},
     "output_type": "execute_result"
    }
   ],
   "source": [
    "cancer['target_names']"
   ]
  },
  {
   "cell_type": "code",
   "execution_count": 7,
   "id": "6e353215-60e8-40eb-9e2a-8c13cbdb40bc",
   "metadata": {},
   "outputs": [],
   "source": [
    "# X와 y 나누기\n",
    "X = cancer['data']\n",
    "y = cancer['target']"
   ]
  },
  {
   "cell_type": "code",
   "execution_count": 8,
   "id": "e0d381b1-684a-46b5-81de-61f07eee6e98",
   "metadata": {},
   "outputs": [],
   "source": [
    "from sklearn.model_selection import train_test_split\n",
    "X_train, X_test, y_train, y_test = train_test_split(X,y,test_size=0.3, random_state = 23)"
   ]
  },
  {
   "cell_type": "code",
   "execution_count": 22,
   "id": "1f0b84b6-1637-4270-a13b-5ff0f6f4f146",
   "metadata": {},
   "outputs": [
    {
     "data": {
      "text/plain": [
       "0.9472361809045227"
      ]
     },
     "execution_count": 22,
     "metadata": {},
     "output_type": "execute_result"
    }
   ],
   "source": [
    "from sklearn.neighbors import KNeighborsClassifier \n",
    "knn =  KNeighborsClassifier()\n",
    "\n",
    "knn.fit(X_train,y_train)\n",
    "knn.predict(X_test)\n",
    "knn.score(X_train,y_train)"
   ]
  },
  {
   "cell_type": "code",
   "execution_count": 24,
   "id": "658df0e2-52c3-4f4b-9cbc-64d3c0fb5edb",
   "metadata": {},
   "outputs": [
    {
     "data": {
      "text/plain": [
       "0.9223101265822784"
      ]
     },
     "execution_count": 24,
     "metadata": {},
     "output_type": "execute_result"
    }
   ],
   "source": [
    "from sklearn.model_selection import cross_val_score\n",
    "score = cross_val_score(knn, X_train, y_train, cv = 5)\n",
    "score.mean()"
   ]
  },
  {
   "cell_type": "code",
   "execution_count": 18,
   "id": "687cca7f-9722-4fa1-9db8-7b7c378f4947",
   "metadata": {},
   "outputs": [],
   "source": [
    "from sklearn.linear_model import LinearRegression, SGDRegressor\n",
    "# 선형 함수 모델\n",
    "# LinearRegression : 수학 공식 모델\n",
    "# SGDRegressor : 경사하강법\n",
    "\n",
    "li_model = LinearRegression()\n",
    "sgd_model = SGDRegressor(eta0=0.0000001)\n"
   ]
  },
  {
   "cell_type": "code",
   "execution_count": 14,
   "id": "511cd078-1e62-4e00-bb27-d9ee7fd0027e",
   "metadata": {},
   "outputs": [
    {
     "data": {
      "text/plain": [
       "0.7811062597554147"
      ]
     },
     "execution_count": 14,
     "metadata": {},
     "output_type": "execute_result"
    }
   ],
   "source": [
    "li_model.fit(X_train,y_train)\n",
    "li_model.score(X_train,y_train)"
   ]
  },
  {
   "cell_type": "code",
   "execution_count": 19,
   "id": "a94032c3-0085-484a-a85a-842df5eef411",
   "metadata": {},
   "outputs": [
    {
     "data": {
      "text/plain": [
       "-0.20834530631457104"
      ]
     },
     "execution_count": 19,
     "metadata": {},
     "output_type": "execute_result"
    }
   ],
   "source": [
    "sgd_model.fit(X_train,y_train)\n",
    "sgd_model.score(X_train,y_train)"
   ]
  },
  {
   "cell_type": "code",
   "execution_count": null,
   "id": "b0d3e073-099f-43af-ac96-989fc6f29b71",
   "metadata": {},
   "outputs": [],
   "source": []
  },
  {
   "cell_type": "code",
   "execution_count": null,
   "id": "c43e01b6-68d0-4a43-84af-cbe4f52f33a9",
   "metadata": {},
   "outputs": [],
   "source": []
  },
  {
   "cell_type": "code",
   "execution_count": null,
   "id": "9494f2ba-454c-4647-ad5b-9087b7718c0d",
   "metadata": {},
   "outputs": [],
   "source": []
  }
 ],
 "metadata": {
  "kernelspec": {
   "display_name": "Python 3 (ipykernel)",
   "language": "python",
   "name": "python3"
  },
  "language_info": {
   "codemirror_mode": {
    "name": "ipython",
    "version": 3
   },
   "file_extension": ".py",
   "mimetype": "text/x-python",
   "name": "python",
   "nbconvert_exporter": "python",
   "pygments_lexer": "ipython3",
   "version": "3.12.7"
  }
 },
 "nbformat": 4,
 "nbformat_minor": 5
}
