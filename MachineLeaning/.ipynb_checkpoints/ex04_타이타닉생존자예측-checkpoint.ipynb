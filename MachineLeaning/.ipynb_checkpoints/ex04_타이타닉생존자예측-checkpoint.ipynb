{
 "cells": [
  {
   "cell_type": "markdown",
   "id": "a4ae245a-5f0f-48bc-be80-46d36df1aabc",
   "metadata": {},
   "source": [
    "### 학습 목표\n",
    "\n",
    "- 타이타닉 데이터를 활용해서 생존자 예측 실습을 진행\n",
    "- Kaggle 사이트에 결과를 제출하여 높은 점수를 받는게 목표\n",
    "- 데이터를 전처리하는 기법에 대해 학습"
   ]
  },
  {
   "cell_type": "markdown",
   "id": "5f6d948f-13e2-4635-8fb0-a902b4a9df66",
   "metadata": {},
   "source": [
    "# 머신러닝 과정\n",
    "\n",
    "- 1. 문제를 정의\n",
    "- 2. 데이터 수집\n",
    "- 3. 데이터 전처리\n",
    "- 4. EDA(탐색적 데이터 분석) -> 특성 선택, 특성 삭제\n",
    "- 5. 모델 선택및 하이퍼파라미터 조정\n",
    "- 6. 모델 예측 및 평가   "
   ]
  },
  {
   "cell_type": "code",
   "execution_count": 1,
   "id": "49b0b993-17cc-43f5-a7b9-3f2a94d6ec9d",
   "metadata": {},
   "outputs": [],
   "source": [
    "# 1. 문제 정의\n",
    "# -> 타이타닉 생존자를 예측해서 Kaggle에 참여한다.\n",
    "\n",
    "# 2. 데이터 수집\n",
    "# -> Kaggle에서 제공"
   ]
  },
  {
   "cell_type": "code",
   "execution_count": 2,
   "id": "efc1d087-6484-4999-9c76-5adeffbaf4cc",
   "metadata": {},
   "outputs": [],
   "source": [
    "# 라이브러리 불러오기\n",
    "\n",
    "# 데이터 공학(전처리)를 위해서 사용\n",
    "import numpy as np\n",
    "import pandas as pd\n",
    "\n",
    "# 데이터 시각화를 위해서 사용\n",
    "# matplotlib의 단점 : 설정의 자유도가 높지만, 반대로 설정해야하는 내용들이 너무 많다.\n",
    "# ->  우리는 데이터 시가화를 간단히 하고 싶다. 기본적으로 꾸며져있는 시각화 라이브러리가 필요하다.\n",
    "# -> 그래서 seaborn이 만들어짐\n",
    "import matplotlib.pyplot as plt\n",
    "import seaborn as sns"
   ]
  },
  {
   "cell_type": "code",
   "execution_count": 3,
   "id": "dc204199-f691-403b-a865-9cc20777ea9e",
   "metadata": {},
   "outputs": [],
   "source": [
    "# 데이터 불러오기\n",
    "\n",
    "train = pd.read_csv('data/train.csv')\n",
    "test = pd.read_csv('data/test.csv')"
   ]
  },
  {
   "cell_type": "code",
   "execution_count": 4,
   "id": "10038a72-4a95-455d-8094-cab75cc904a2",
   "metadata": {
    "scrolled": true
   },
   "outputs": [
    {
     "name": "stdout",
     "output_type": "stream",
     "text": [
      "<class 'pandas.core.frame.DataFrame'>\n",
      "RangeIndex: 891 entries, 0 to 890\n",
      "Data columns (total 12 columns):\n",
      " #   Column       Non-Null Count  Dtype  \n",
      "---  ------       --------------  -----  \n",
      " 0   PassengerId  891 non-null    int64  \n",
      " 1   Survived     891 non-null    int64  \n",
      " 2   Pclass       891 non-null    int64  \n",
      " 3   Name         891 non-null    object \n",
      " 4   Sex          891 non-null    object \n",
      " 5   Age          714 non-null    float64\n",
      " 6   SibSp        891 non-null    int64  \n",
      " 7   Parch        891 non-null    int64  \n",
      " 8   Ticket       891 non-null    object \n",
      " 9   Fare         891 non-null    float64\n",
      " 10  Cabin        204 non-null    object \n",
      " 11  Embarked     889 non-null    object \n",
      "dtypes: float64(2), int64(5), object(5)\n",
      "memory usage: 83.7+ KB\n"
     ]
    }
   ],
   "source": [
    "# 5개의 데이터를 샘플링\n",
    "\n",
    "# set_index(), pd.read_csv('파일명' index_col = '원하는 컬럼명')\n",
    "# train 데이터프레임에서 PassengerId를 인덱스로 설정\n",
    "# set_index는 바뀐 결과물만 보여주고, 원본 데이터에는 영향 X\n",
    "# inplace = True -> 원본 데이터에 영향 O\n",
    "# train = train.set_index('PassengerId', drop=True)\n",
    "\n",
    "# 상위 5개 행 출력\n",
    "train.info()"
   ]
  },
  {
   "cell_type": "code",
   "execution_count": 5,
   "id": "c0834602-a98a-4138-a000-f99debacdaff",
   "metadata": {},
   "outputs": [],
   "source": [
    "# 타이타닉 데이터 컬럼 설명\n",
    "# Pclass : 티켓의 등급\n",
    "# SibSp : 배우자와 형제수\n",
    "# Parch : 자식과 부모를 합친 수\n",
    "# Fare : 티켓의 요금\n",
    "# Embarked : 탑승항\n",
    "# Survived(정답) : 탑승자가 생존했는지 유무\n"
   ]
  },
  {
   "cell_type": "code",
   "execution_count": 6,
   "id": "9a1a03c4-4cf5-4ebb-80a1-58ec4fda809c",
   "metadata": {},
   "outputs": [
    {
     "name": "stdout",
     "output_type": "stream",
     "text": [
      "<class 'pandas.core.frame.DataFrame'>\n",
      "RangeIndex: 418 entries, 0 to 417\n",
      "Data columns (total 11 columns):\n",
      " #   Column       Non-Null Count  Dtype  \n",
      "---  ------       --------------  -----  \n",
      " 0   PassengerId  418 non-null    int64  \n",
      " 1   Pclass       418 non-null    int64  \n",
      " 2   Name         418 non-null    object \n",
      " 3   Sex          418 non-null    object \n",
      " 4   Age          332 non-null    float64\n",
      " 5   SibSp        418 non-null    int64  \n",
      " 6   Parch        418 non-null    int64  \n",
      " 7   Ticket       418 non-null    object \n",
      " 8   Fare         417 non-null    float64\n",
      " 9   Cabin        91 non-null     object \n",
      " 10  Embarked     418 non-null    object \n",
      "dtypes: float64(2), int64(4), object(5)\n",
      "memory usage: 36.1+ KB\n"
     ]
    }
   ],
   "source": [
    "# 데이터 확인\n",
    "# 1. train과 test의 차이점\n",
    "# 결측치가 존재한다!\n",
    "# 2. train과 test 각각의 문제점\n",
    "# train : Age, Cabin, Embarked에 결측치가 존재한다!\n",
    "# test : Age, Fare, Cabine에 결측치가 존재한다!\n",
    "test.info()"
   ]
  },
  {
   "cell_type": "markdown",
   "id": "e760c476-79dd-43d3-9e6d-218316fa72f5",
   "metadata": {},
   "source": [
    "### 채워줄 결측치의 내용\n",
    "- 1. dropna: 결측치가 존재하는 행의 데이터를 삭제\n",
    "- 2. 문자데이터 : 일반저긍로 최빈값(가장 많은 값)으로 채워준다. \n",
    "- 3. 숫자데이터 : EDA(데이터 시각화)를 통해서, 데이터의 분산을 확인 , 중앙값, 평균으로 채워줄지 결정해야 한다.\n",
    "- 4. dropna: 결측치가 존재하는 행의 데이터를 삭제\n",
    "- 5. dropna: 결측치가 존재하는 행의 데이터를 삭제"
   ]
  },
  {
   "cell_type": "code",
   "execution_count": 7,
   "id": "94f1ef12-cc59-4906-a14c-3b5f537b12b7",
   "metadata": {},
   "outputs": [
    {
     "data": {
      "text/plain": [
       "Embarked\n",
       "S    644\n",
       "C    168\n",
       "Q     77\n",
       "Name: count, dtype: int64"
      ]
     },
     "execution_count": 7,
     "metadata": {},
     "output_type": "execute_result"
    }
   ],
   "source": [
    "train['Embarked'].value_counts()"
   ]
  },
  {
   "cell_type": "code",
   "execution_count": 8,
   "id": "c41012d5-b27e-4f5e-aabd-720c41d859f0",
   "metadata": {},
   "outputs": [
    {
     "data": {
      "text/plain": [
       "<Axes: xlabel='Embarked', ylabel='count'>"
      ]
     },
     "execution_count": 8,
     "metadata": {},
     "output_type": "execute_result"
    },
    {
     "data": {
      "image/png": "[encoded data removed]",
      "text/plain": [
       "<Figure size 640x480 with 1 Axes>"
      ]
     },
     "metadata": {},
     "output_type": "display_data"
    }
   ],
   "source": [
    "# Embarked를 S로 채워도 무방한지 데이터 시각화를 통해서 확인\n",
    "\n",
    "import seaborn as sns\n",
    "\n",
    "# 범주화된 데이터를 시각화 하기 용이한 countplot에\n",
    "# countplot(data = df자료, x = 기준컬럼명, hue 관측할 컬럼명)\n",
    "sns.countplot(x=\"Embarked\", hue=\"Survived\", data=train)\n",
    "\n",
    "# 관측결과 : S, Q에서 탑승한 사람들은 평균적인 생존율을 가지고 이싿.\n",
    "#           다만 C에서 탑승한 사람들은 조금 더 높은 생존율을 기록하고 있다.\n",
    "#           -> 모델의 성능이 좋지 않아서, 전처리를 다시 했을 때는 다른 컬럼과 비교하여 데이터를 채워줄 필요가 있다."
   ]
  },
  {
   "cell_type": "code",
   "execution_count": 9,
   "id": "e70ebe57-a0d8-4120-b08b-70467082e767",
   "metadata": {},
   "outputs": [
    {
     "name": "stderr",
     "output_type": "stream",
     "text": [
      "C:\\Users\\smhrd\\AppData\\Local\\Temp\\ipykernel_11408\\2142494439.py:8: FutureWarning: A value is trying to be set on a copy of a DataFrame or Series through chained assignment using an inplace method.\n",
      "The behavior will change in pandas 3.0. This inplace method will never work because the intermediate object on which we are setting values always behaves as a copy.\n",
      "\n",
      "For example, when doing 'df[col].method(value, inplace=True)', try using 'df.method({col: value}, inplace=True)' or df[col] = df[col].method(value) instead, to perform the operation inplace on the original object.\n",
      "\n",
      "\n",
      "  train['Embarked'].fillna('S', inplace=True)\n"
     ]
    }
   ],
   "source": [
    "# 결측치가 2개 뿐이고, S가 압도적으로 많으면서, 생존율에 큰 변화가 없기 때문에\n",
    "# 결측치를 S라는 문자열로 채워준다.\n",
    "#\n",
    "\n",
    "# 하나하나 채워주는 게  아니라, 일괄적으로 같은 값을 입력\n",
    "train['Embarked'].isnull().sum()\n",
    "# fillna('채워줄 값')\n",
    "train['Embarked'].fillna('S', inplace=True)"
   ]
  },
  {
   "cell_type": "code",
   "execution_count": 10,
   "id": "cac207f2-ce27-482a-82ee-f0cb7f601b64",
   "metadata": {},
   "outputs": [
    {
     "data": {
      "text/plain": [
       "0"
      ]
     },
     "execution_count": 10,
     "metadata": {},
     "output_type": "execute_result"
    }
   ],
   "source": [
    "# 결측치가 채워졌는지 확인\n",
    "\n",
    "train['Embarked'].isnull().sum()"
   ]
  },
  {
   "cell_type": "code",
   "execution_count": 11,
   "id": "b53b8213-d663-4308-9f06-6d812997d857",
   "metadata": {},
   "outputs": [
    {
     "data": {
      "text/html": [
       "<div>\n",
       "<style scoped>\n",
       "    .dataframe tbody tr th:only-of-type {\n",
       "        vertical-align: middle;\n",
       "    }\n",
       "\n",
       "    .dataframe tbody tr th {\n",
       "        vertical-align: top;\n",
       "    }\n",
       "\n",
       "    .dataframe thead th {\n",
       "        text-align: right;\n",
       "    }\n",
       "</style>\n",
       "<table border=\"1\" class=\"dataframe\">\n",
       "  <thead>\n",
       "    <tr style=\"text-align: right;\">\n",
       "      <th></th>\n",
       "      <th>PassengerId</th>\n",
       "      <th>Pclass</th>\n",
       "      <th>Name</th>\n",
       "      <th>Sex</th>\n",
       "      <th>Age</th>\n",
       "      <th>SibSp</th>\n",
       "      <th>Parch</th>\n",
       "      <th>Ticket</th>\n",
       "      <th>Fare</th>\n",
       "      <th>Cabin</th>\n",
       "      <th>Embarked</th>\n",
       "    </tr>\n",
       "  </thead>\n",
       "  <tbody>\n",
       "    <tr>\n",
       "      <th>0</th>\n",
       "      <td>892</td>\n",
       "      <td>3</td>\n",
       "      <td>Kelly, Mr. James</td>\n",
       "      <td>male</td>\n",
       "      <td>34.5</td>\n",
       "      <td>0</td>\n",
       "      <td>0</td>\n",
       "      <td>330911</td>\n",
       "      <td>7.8292</td>\n",
       "      <td>NaN</td>\n",
       "      <td>Q</td>\n",
       "    </tr>\n",
       "    <tr>\n",
       "      <th>1</th>\n",
       "      <td>893</td>\n",
       "      <td>3</td>\n",
       "      <td>Wilkes, Mrs. James (Ellen Needs)</td>\n",
       "      <td>female</td>\n",
       "      <td>47.0</td>\n",
       "      <td>1</td>\n",
       "      <td>0</td>\n",
       "      <td>363272</td>\n",
       "      <td>7.0000</td>\n",
       "      <td>NaN</td>\n",
       "      <td>S</td>\n",
       "    </tr>\n",
       "    <tr>\n",
       "      <th>2</th>\n",
       "      <td>894</td>\n",
       "      <td>2</td>\n",
       "      <td>Myles, Mr. Thomas Francis</td>\n",
       "      <td>male</td>\n",
       "      <td>62.0</td>\n",
       "      <td>0</td>\n",
       "      <td>0</td>\n",
       "      <td>240276</td>\n",
       "      <td>9.6875</td>\n",
       "      <td>NaN</td>\n",
       "      <td>Q</td>\n",
       "    </tr>\n",
       "    <tr>\n",
       "      <th>3</th>\n",
       "      <td>895</td>\n",
       "      <td>3</td>\n",
       "      <td>Wirz, Mr. Albert</td>\n",
       "      <td>male</td>\n",
       "      <td>27.0</td>\n",
       "      <td>0</td>\n",
       "      <td>0</td>\n",
       "      <td>315154</td>\n",
       "      <td>8.6625</td>\n",
       "      <td>NaN</td>\n",
       "      <td>S</td>\n",
       "    </tr>\n",
       "    <tr>\n",
       "      <th>4</th>\n",
       "      <td>896</td>\n",
       "      <td>3</td>\n",
       "      <td>Hirvonen, Mrs. Alexander (Helga E Lindqvist)</td>\n",
       "      <td>female</td>\n",
       "      <td>22.0</td>\n",
       "      <td>1</td>\n",
       "      <td>1</td>\n",
       "      <td>3101298</td>\n",
       "      <td>12.2875</td>\n",
       "      <td>NaN</td>\n",
       "      <td>S</td>\n",
       "    </tr>\n",
       "    <tr>\n",
       "      <th>...</th>\n",
       "      <td>...</td>\n",
       "      <td>...</td>\n",
       "      <td>...</td>\n",
       "      <td>...</td>\n",
       "      <td>...</td>\n",
       "      <td>...</td>\n",
       "      <td>...</td>\n",
       "      <td>...</td>\n",
       "      <td>...</td>\n",
       "      <td>...</td>\n",
       "      <td>...</td>\n",
       "    </tr>\n",
       "    <tr>\n",
       "      <th>413</th>\n",
       "      <td>1305</td>\n",
       "      <td>3</td>\n",
       "      <td>Spector, Mr. Woolf</td>\n",
       "      <td>male</td>\n",
       "      <td>NaN</td>\n",
       "      <td>0</td>\n",
       "      <td>0</td>\n",
       "      <td>A.5. 3236</td>\n",
       "      <td>8.0500</td>\n",
       "      <td>NaN</td>\n",
       "      <td>S</td>\n",
       "    </tr>\n",
       "    <tr>\n",
       "      <th>414</th>\n",
       "      <td>1306</td>\n",
       "      <td>1</td>\n",
       "      <td>Oliva y Ocana, Dona. Fermina</td>\n",
       "      <td>female</td>\n",
       "      <td>39.0</td>\n",
       "      <td>0</td>\n",
       "      <td>0</td>\n",
       "      <td>PC 17758</td>\n",
       "      <td>108.9000</td>\n",
       "      <td>C105</td>\n",
       "      <td>C</td>\n",
       "    </tr>\n",
       "    <tr>\n",
       "      <th>415</th>\n",
       "      <td>1307</td>\n",
       "      <td>3</td>\n",
       "      <td>Saether, Mr. Simon Sivertsen</td>\n",
       "      <td>male</td>\n",
       "      <td>38.5</td>\n",
       "      <td>0</td>\n",
       "      <td>0</td>\n",
       "      <td>SOTON/O.Q. 3101262</td>\n",
       "      <td>7.2500</td>\n",
       "      <td>NaN</td>\n",
       "      <td>S</td>\n",
       "    </tr>\n",
       "    <tr>\n",
       "      <th>416</th>\n",
       "      <td>1308</td>\n",
       "      <td>3</td>\n",
       "      <td>Ware, Mr. Frederick</td>\n",
       "      <td>male</td>\n",
       "      <td>NaN</td>\n",
       "      <td>0</td>\n",
       "      <td>0</td>\n",
       "      <td>359309</td>\n",
       "      <td>8.0500</td>\n",
       "      <td>NaN</td>\n",
       "      <td>S</td>\n",
       "    </tr>\n",
       "    <tr>\n",
       "      <th>417</th>\n",
       "      <td>1309</td>\n",
       "      <td>3</td>\n",
       "      <td>Peter, Master. Michael J</td>\n",
       "      <td>male</td>\n",
       "      <td>NaN</td>\n",
       "      <td>1</td>\n",
       "      <td>1</td>\n",
       "      <td>2668</td>\n",
       "      <td>22.3583</td>\n",
       "      <td>NaN</td>\n",
       "      <td>C</td>\n",
       "    </tr>\n",
       "  </tbody>\n",
       "</table>\n",
       "<p>418 rows × 11 columns</p>\n",
       "</div>"
      ],
      "text/plain": [
       "     PassengerId  Pclass                                          Name  \\\n",
       "0            892       3                              Kelly, Mr. James   \n",
       "1            893       3              Wilkes, Mrs. James (Ellen Needs)   \n",
       "2            894       2                     Myles, Mr. Thomas Francis   \n",
       "3            895       3                              Wirz, Mr. Albert   \n",
       "4            896       3  Hirvonen, Mrs. Alexander (Helga E Lindqvist)   \n",
       "..           ...     ...                                           ...   \n",
       "413         1305       3                            Spector, Mr. Woolf   \n",
       "414         1306       1                  Oliva y Ocana, Dona. Fermina   \n",
       "415         1307       3                  Saether, Mr. Simon Sivertsen   \n",
       "416         1308       3                           Ware, Mr. Frederick   \n",
       "417         1309       3                      Peter, Master. Michael J   \n",
       "\n",
       "        Sex   Age  SibSp  Parch              Ticket      Fare Cabin Embarked  \n",
       "0      male  34.5      0      0              330911    7.8292   NaN        Q  \n",
       "1    female  47.0      1      0              363272    7.0000   NaN        S  \n",
       "2      male  62.0      0      0              240276    9.6875   NaN        Q  \n",
       "3      male  27.0      0      0              315154    8.6625   NaN        S  \n",
       "4    female  22.0      1      1             3101298   12.2875   NaN        S  \n",
       "..      ...   ...    ...    ...                 ...       ...   ...      ...  \n",
       "413    male   NaN      0      0           A.5. 3236    8.0500   NaN        S  \n",
       "414  female  39.0      0      0            PC 17758  108.9000  C105        C  \n",
       "415    male  38.5      0      0  SOTON/O.Q. 3101262    7.2500   NaN        S  \n",
       "416    male   NaN      0      0              359309    8.0500   NaN        S  \n",
       "417    male   NaN      1      1                2668   22.3583   NaN        C  \n",
       "\n",
       "[418 rows x 11 columns]"
      ]
     },
     "execution_count": 11,
     "metadata": {},
     "output_type": "execute_result"
    }
   ],
   "source": [
    "test"
   ]
  },
  {
   "cell_type": "code",
   "execution_count": 12,
   "id": "1e25a128-0055-4183-bd66-929a334464bf",
   "metadata": {},
   "outputs": [
    {
     "data": {
      "text/plain": [
       "count    417.000000\n",
       "mean      35.627188\n",
       "std       55.907576\n",
       "min        0.000000\n",
       "25%        7.895800\n",
       "50%       14.454200\n",
       "75%       31.500000\n",
       "max      512.329200\n",
       "Name: Fare, dtype: float64"
      ]
     },
     "execution_count": 12,
     "metadata": {},
     "output_type": "execute_result"
    }
   ],
   "source": [
    "# test 데이터의 fare(요금)\n",
    "# 숫자 데이터\n",
    "# fare와 관련 깊은 특성과 비교해서 전처리\n",
    "\n",
    "# 기술통계량 확인\n",
    "test['Fare'].isnull().sum()\n",
    "\n",
    "# Fare의 분산이 크면서, 데이터의 범위가 넓기 때문에 평균 데이터가 가지는 의미가 많이 퇴색된다.\n",
    "test.describe()['Fare']"
   ]
  },
  {
   "cell_type": "code",
   "execution_count": 13,
   "id": "d8396156-adc9-47f7-b0e7-e2de8bd728b0",
   "metadata": {
    "scrolled": true
   },
   "outputs": [
    {
     "data": {
      "text/html": [
       "<div>\n",
       "<style scoped>\n",
       "    .dataframe tbody tr th:only-of-type {\n",
       "        vertical-align: middle;\n",
       "    }\n",
       "\n",
       "    .dataframe tbody tr th {\n",
       "        vertical-align: top;\n",
       "    }\n",
       "\n",
       "    .dataframe thead th {\n",
       "        text-align: right;\n",
       "    }\n",
       "</style>\n",
       "<table border=\"1\" class=\"dataframe\">\n",
       "  <thead>\n",
       "    <tr style=\"text-align: right;\">\n",
       "      <th></th>\n",
       "      <th></th>\n",
       "      <th>Fare</th>\n",
       "    </tr>\n",
       "    <tr>\n",
       "      <th>Pclass</th>\n",
       "      <th>Sex</th>\n",
       "      <th></th>\n",
       "    </tr>\n",
       "  </thead>\n",
       "  <tbody>\n",
       "    <tr>\n",
       "      <th rowspan=\"2\" valign=\"top\">1</th>\n",
       "      <th>female</th>\n",
       "      <td>79.02500</td>\n",
       "    </tr>\n",
       "    <tr>\n",
       "      <th>male</th>\n",
       "      <td>51.86250</td>\n",
       "    </tr>\n",
       "    <tr>\n",
       "      <th rowspan=\"2\" valign=\"top\">2</th>\n",
       "      <th>female</th>\n",
       "      <td>26.00000</td>\n",
       "    </tr>\n",
       "    <tr>\n",
       "      <th>male</th>\n",
       "      <td>13.00000</td>\n",
       "    </tr>\n",
       "    <tr>\n",
       "      <th rowspan=\"2\" valign=\"top\">3</th>\n",
       "      <th>female</th>\n",
       "      <td>8.08125</td>\n",
       "    </tr>\n",
       "    <tr>\n",
       "      <th>male</th>\n",
       "      <td>7.89580</td>\n",
       "    </tr>\n",
       "  </tbody>\n",
       "</table>\n",
       "</div>"
      ],
      "text/plain": [
       "                   Fare\n",
       "Pclass Sex             \n",
       "1      female  79.02500\n",
       "       male    51.86250\n",
       "2      female  26.00000\n",
       "       male    13.00000\n",
       "3      female   8.08125\n",
       "       male     7.89580"
      ]
     },
     "execution_count": 13,
     "metadata": {},
     "output_type": "execute_result"
    }
   ],
   "source": [
    "# 1. pclass와 성별 컬럼을 기준으로 데이터를 확인한다.\n",
    "# 2. 결측치가 있는 사람의 pclass와 성별을 확인해서 pclass와 성별에 맞는 값을 넣어준다.\n",
    "\n",
    "\n",
    "# 기준으로 삼고 싶은 데이터가 복수 개라면, 리스트에 묶어서 전달한다.\n",
    "pt1 = test[['Pclass','Sex','Fare']].groupby(['Pclass','Sex']).median() # 중앙값\n",
    "pt1\n",
    "# Pclass가 3이면서 Sex가 남자인 사람의 값을 조회\n",
    "# loc인데서를 통해서 접근\n",
    "# 인덱스가 2개 이상 있다면 -> 멀티 인덱스\n",
    "# 해당 데이터 프레임에 접근 -> 멀티 인덱싱\n",
    "\n",
    "# loc[행에 대한 접근, 열에 대한 접근]\n",
    "# loc[('Pclass','Sex'),'Fare'] -> 멀티 인덱스"
   ]
  },
  {
   "cell_type": "code",
   "execution_count": 14,
   "id": "0cdadeb5-f4fb-4e7a-a831-0520b6e2fe13",
   "metadata": {},
   "outputs": [
    {
     "name": "stdout",
     "output_type": "stream",
     "text": [
      "Pclass가 1이면서 Sex가 남자인 Fare(요금) 51.8625\n",
      "Pclass가 3이면서 Sex가 여자인 Fare(요금) 8.08125\n",
      "Pclass가 2이면서 Sex가 남자인 Fare(요금) 13.0\n"
     ]
    }
   ],
   "source": [
    "aa = []\n",
    "aa.append((pt1.loc[(1,'male'),'Fare'],'Pclass가 1이면서 Sex가 남자인 Fare(요금)'))\n",
    "aa.append((pt1.loc[(3,'female'),'Fare'],'Pclass가 3이면서 Sex가 여자인 Fare(요금)'))\n",
    "aa.append((pt1.loc[(2,'male'),'Fare'],'Pclass가 2이면서 Sex가 남자인 Fare(요금)'))\n",
    "\n",
    "\n",
    "for a in aa:\n",
    "    print(a[1], a[0])"
   ]
  },
  {
   "cell_type": "code",
   "execution_count": 15,
   "id": "b6e2000a-50d8-45e0-b523-7c966f1a82a2",
   "metadata": {},
   "outputs": [
    {
     "name": "stderr",
     "output_type": "stream",
     "text": [
      "C:\\Users\\smhrd\\AppData\\Local\\Temp\\ipykernel_11408\\3682113901.py:8: SettingWithCopyWarning: \n",
      "A value is trying to be set on a copy of a slice from a DataFrame.\n",
      "Try using .loc[row_indexer,col_indexer] = value instead\n",
      "\n",
      "See the caveats in the documentation: https://pandas.pydata.org/pandas-docs/stable/user_guide/indexing.html#returning-a-view-versus-a-copy\n",
      "  test[bool1]['Fare'] = pt1.loc[(3, 'male'), 'Fare']\n"
     ]
    },
    {
     "data": {
      "text/html": [
       "<div>\n",
       "<style scoped>\n",
       "    .dataframe tbody tr th:only-of-type {\n",
       "        vertical-align: middle;\n",
       "    }\n",
       "\n",
       "    .dataframe tbody tr th {\n",
       "        vertical-align: top;\n",
       "    }\n",
       "\n",
       "    .dataframe thead th {\n",
       "        text-align: right;\n",
       "    }\n",
       "</style>\n",
       "<table border=\"1\" class=\"dataframe\">\n",
       "  <thead>\n",
       "    <tr style=\"text-align: right;\">\n",
       "      <th></th>\n",
       "      <th>PassengerId</th>\n",
       "      <th>Pclass</th>\n",
       "      <th>Name</th>\n",
       "      <th>Sex</th>\n",
       "      <th>Age</th>\n",
       "      <th>SibSp</th>\n",
       "      <th>Parch</th>\n",
       "      <th>Ticket</th>\n",
       "      <th>Fare</th>\n",
       "      <th>Cabin</th>\n",
       "      <th>Embarked</th>\n",
       "    </tr>\n",
       "  </thead>\n",
       "  <tbody>\n",
       "    <tr>\n",
       "      <th>152</th>\n",
       "      <td>1044</td>\n",
       "      <td>3</td>\n",
       "      <td>Storey, Mr. Thomas</td>\n",
       "      <td>male</td>\n",
       "      <td>60.5</td>\n",
       "      <td>0</td>\n",
       "      <td>0</td>\n",
       "      <td>3701</td>\n",
       "      <td>NaN</td>\n",
       "      <td>NaN</td>\n",
       "      <td>S</td>\n",
       "    </tr>\n",
       "  </tbody>\n",
       "</table>\n",
       "</div>"
      ],
      "text/plain": [
       "     PassengerId  Pclass                Name   Sex   Age  SibSp  Parch Ticket  \\\n",
       "152         1044       3  Storey, Mr. Thomas  male  60.5      0      0   3701   \n",
       "\n",
       "     Fare Cabin Embarked  \n",
       "152   NaN   NaN        S  "
      ]
     },
     "execution_count": 15,
     "metadata": {},
     "output_type": "execute_result"
    }
   ],
   "source": [
    "# isnull함수는 결측치가 잇는 데이터는 True를 반환\n",
    "# boolean 인덱싱은 True를 만족하는 데이터만 조회\n",
    "bool1 = test['Fare'].isnull()\n",
    "\n",
    "# fare가 결측치인 사람의 정보를 조회\n",
    "\n",
    "\n",
    "test[bool1]['Fare'] = pt1.loc[(3, 'male'), 'Fare']\n",
    "test[bool1]\n",
    "# Pclass가 3이면서 Sex가 남자인 Fare(요금)의 중앙값을 채워주자\n",
    "# 1. fillna를 활용해서 결측치 채워주기\n",
    "# test['Fare'].fillna('')\n",
    "# 2. 직접 결측치를 가진 데이터에 접근해서 대입연산자로 넣어주기 \n",
    "\n"
   ]
  },
  {
   "cell_type": "code",
   "execution_count": 16,
   "id": "8b805ab0-894e-4bef-91c6-2268c486ca4d",
   "metadata": {},
   "outputs": [
    {
     "data": {
      "text/html": [
       "<div>\n",
       "<style scoped>\n",
       "    .dataframe tbody tr th:only-of-type {\n",
       "        vertical-align: middle;\n",
       "    }\n",
       "\n",
       "    .dataframe tbody tr th {\n",
       "        vertical-align: top;\n",
       "    }\n",
       "\n",
       "    .dataframe thead th {\n",
       "        text-align: right;\n",
       "    }\n",
       "</style>\n",
       "<table border=\"1\" class=\"dataframe\">\n",
       "  <thead>\n",
       "    <tr style=\"text-align: right;\">\n",
       "      <th></th>\n",
       "      <th>PassengerId</th>\n",
       "      <th>Pclass</th>\n",
       "      <th>Name</th>\n",
       "      <th>Sex</th>\n",
       "      <th>Age</th>\n",
       "      <th>SibSp</th>\n",
       "      <th>Parch</th>\n",
       "      <th>Ticket</th>\n",
       "      <th>Fare</th>\n",
       "      <th>Cabin</th>\n",
       "      <th>Embarked</th>\n",
       "    </tr>\n",
       "  </thead>\n",
       "  <tbody>\n",
       "    <tr>\n",
       "      <th>152</th>\n",
       "      <td>1044</td>\n",
       "      <td>3</td>\n",
       "      <td>Storey, Mr. Thomas</td>\n",
       "      <td>male</td>\n",
       "      <td>60.5</td>\n",
       "      <td>0</td>\n",
       "      <td>0</td>\n",
       "      <td>3701</td>\n",
       "      <td>7.8958</td>\n",
       "      <td>NaN</td>\n",
       "      <td>S</td>\n",
       "    </tr>\n",
       "  </tbody>\n",
       "</table>\n",
       "</div>"
      ],
      "text/plain": [
       "     PassengerId  Pclass                Name   Sex   Age  SibSp  Parch Ticket  \\\n",
       "152         1044       3  Storey, Mr. Thomas  male  60.5      0      0   3701   \n",
       "\n",
       "       Fare Cabin Embarked  \n",
       "152  7.8958   NaN        S  "
      ]
     },
     "execution_count": 16,
     "metadata": {},
     "output_type": "execute_result"
    }
   ],
   "source": [
    "test.loc[bool1, 'Fare'] = pt1.loc[(3, 'male'), 'Fare']\n",
    "\n",
    "test[bool1]"
   ]
  },
  {
   "cell_type": "code",
   "execution_count": 17,
   "id": "8f1a8346-d956-40e8-aa41-566803a9bfe6",
   "metadata": {},
   "outputs": [
    {
     "data": {
      "text/plain": [
       "pandas.core.series.Series"
      ]
     },
     "execution_count": 17,
     "metadata": {},
     "output_type": "execute_result"
    }
   ],
   "source": [
    "testObject = test[test['PassengerId'] == 1044]\n",
    "\n",
    "bool2 = testObject['Fare']\n",
    "\n",
    "type(bool2)"
   ]
  },
  {
   "cell_type": "code",
   "execution_count": 18,
   "id": "90cdf827-87bf-4358-a7ef-b6801777e0fb",
   "metadata": {},
   "outputs": [],
   "source": [
    "# train, test의 공통사항\n",
    "# -> Cabin, Age 결측치 채워주기"
   ]
  },
  {
   "cell_type": "code",
   "execution_count": 19,
   "id": "6a64c443-0f7d-452d-a8fa-f4f36bf6e729",
   "metadata": {},
   "outputs": [
    {
     "data": {
      "text/plain": [
       "<bound method DataFrame.count of      PassengerId  Pclass                                               Name  \\\n",
       "10           902       3                                   Ilieff, Mr. Ylio   \n",
       "22           914       1               Flegenheim, Mrs. Alfred (Antoinette)   \n",
       "29           921       3                                  Samaan, Mr. Elias   \n",
       "33           925       3  Johnston, Mrs. Andrew G (Elizabeth Lily\" Watson)\"   \n",
       "36           928       3                                Roth, Miss. Sarah A   \n",
       "..           ...     ...                                                ...   \n",
       "408         1300       3                    Riordan, Miss. Johanna Hannah\"\"   \n",
       "410         1302       3                             Naughton, Miss. Hannah   \n",
       "413         1305       3                                 Spector, Mr. Woolf   \n",
       "416         1308       3                                Ware, Mr. Frederick   \n",
       "417         1309       3                           Peter, Master. Michael J   \n",
       "\n",
       "        Sex  Age  SibSp  Parch      Ticket     Fare Cabin Embarked  \n",
       "10     male  NaN      0      0      349220   7.8958   NaN        S  \n",
       "22   female  NaN      0      0    PC 17598  31.6833   NaN        S  \n",
       "29     male  NaN      2      0        2662  21.6792   NaN        C  \n",
       "33   female  NaN      1      2  W./C. 6607  23.4500   NaN        S  \n",
       "36   female  NaN      0      0      342712   8.0500   NaN        S  \n",
       "..      ...  ...    ...    ...         ...      ...   ...      ...  \n",
       "408  female  NaN      0      0      334915   7.7208   NaN        Q  \n",
       "410  female  NaN      0      0      365237   7.7500   NaN        Q  \n",
       "413    male  NaN      0      0   A.5. 3236   8.0500   NaN        S  \n",
       "416    male  NaN      0      0      359309   8.0500   NaN        S  \n",
       "417    male  NaN      1      1        2668  22.3583   NaN        C  \n",
       "\n",
       "[86 rows x 11 columns]>"
      ]
     },
     "execution_count": 19,
     "metadata": {},
     "output_type": "execute_result"
    }
   ],
   "source": [
    "# Age 컬럼 결측치 처리\n",
    "\n",
    "# 상관관계 파악\n",
    "# -> 해당 컬럼이 다른 컬럼과 비례하는지, 반비례하는지 확인하는 작업\n",
    "\n",
    "bool3 = test['Age'].isnull()\n",
    "test[bool3].count"
   ]
  },
  {
   "cell_type": "code",
   "execution_count": 20,
   "id": "a47de128-7c24-4e7c-b71e-caab3178e7fa",
   "metadata": {
    "scrolled": true
   },
   "outputs": [
    {
     "data": {
      "text/plain": [
       "count    714.000000\n",
       "mean      29.699118\n",
       "std       14.526497\n",
       "min        0.420000\n",
       "25%       20.125000\n",
       "50%       28.000000\n",
       "75%       38.000000\n",
       "max       80.000000\n",
       "Name: Age, dtype: float64"
      ]
     },
     "execution_count": 20,
     "metadata": {},
     "output_type": "execute_result"
    }
   ],
   "source": [
    "# Pclass, 성별을 기준으로 Age컬럼 채우기\n",
    "# 1. 기술 통계량 확인\n",
    "# -> 데이터의 분산을 확인해서, 중앙값으로 채워줄지 평균값으로 채워줄지 결정\n",
    "\n",
    "train.describe()['Age']"
   ]
  },
  {
   "cell_type": "code",
   "execution_count": 21,
   "id": "c4bfc64d-cba9-4faf-8209-4419d9d0f0ff",
   "metadata": {},
   "outputs": [
    {
     "data": {
      "text/html": [
       "<div>\n",
       "<style scoped>\n",
       "    .dataframe tbody tr th:only-of-type {\n",
       "        vertical-align: middle;\n",
       "    }\n",
       "\n",
       "    .dataframe tbody tr th {\n",
       "        vertical-align: top;\n",
       "    }\n",
       "\n",
       "    .dataframe thead th {\n",
       "        text-align: right;\n",
       "    }\n",
       "</style>\n",
       "<table border=\"1\" class=\"dataframe\">\n",
       "  <thead>\n",
       "    <tr style=\"text-align: right;\">\n",
       "      <th></th>\n",
       "      <th>Pclass</th>\n",
       "      <th>Sex</th>\n",
       "      <th>Age</th>\n",
       "    </tr>\n",
       "  </thead>\n",
       "  <tbody>\n",
       "    <tr>\n",
       "      <th>0</th>\n",
       "      <td>3</td>\n",
       "      <td>male</td>\n",
       "      <td>22.0</td>\n",
       "    </tr>\n",
       "    <tr>\n",
       "      <th>1</th>\n",
       "      <td>1</td>\n",
       "      <td>female</td>\n",
       "      <td>38.0</td>\n",
       "    </tr>\n",
       "    <tr>\n",
       "      <th>2</th>\n",
       "      <td>3</td>\n",
       "      <td>female</td>\n",
       "      <td>26.0</td>\n",
       "    </tr>\n",
       "    <tr>\n",
       "      <th>3</th>\n",
       "      <td>1</td>\n",
       "      <td>female</td>\n",
       "      <td>35.0</td>\n",
       "    </tr>\n",
       "    <tr>\n",
       "      <th>4</th>\n",
       "      <td>3</td>\n",
       "      <td>male</td>\n",
       "      <td>35.0</td>\n",
       "    </tr>\n",
       "    <tr>\n",
       "      <th>...</th>\n",
       "      <td>...</td>\n",
       "      <td>...</td>\n",
       "      <td>...</td>\n",
       "    </tr>\n",
       "    <tr>\n",
       "      <th>886</th>\n",
       "      <td>2</td>\n",
       "      <td>male</td>\n",
       "      <td>27.0</td>\n",
       "    </tr>\n",
       "    <tr>\n",
       "      <th>887</th>\n",
       "      <td>1</td>\n",
       "      <td>female</td>\n",
       "      <td>19.0</td>\n",
       "    </tr>\n",
       "    <tr>\n",
       "      <th>888</th>\n",
       "      <td>3</td>\n",
       "      <td>female</td>\n",
       "      <td>NaN</td>\n",
       "    </tr>\n",
       "    <tr>\n",
       "      <th>889</th>\n",
       "      <td>1</td>\n",
       "      <td>male</td>\n",
       "      <td>26.0</td>\n",
       "    </tr>\n",
       "    <tr>\n",
       "      <th>890</th>\n",
       "      <td>3</td>\n",
       "      <td>male</td>\n",
       "      <td>32.0</td>\n",
       "    </tr>\n",
       "  </tbody>\n",
       "</table>\n",
       "<p>891 rows × 3 columns</p>\n",
       "</div>"
      ],
      "text/plain": [
       "     Pclass     Sex   Age\n",
       "0         3    male  22.0\n",
       "1         1  female  38.0\n",
       "2         3  female  26.0\n",
       "3         1  female  35.0\n",
       "4         3    male  35.0\n",
       "..      ...     ...   ...\n",
       "886       2    male  27.0\n",
       "887       1  female  19.0\n",
       "888       3  female   NaN\n",
       "889       1    male  26.0\n",
       "890       3    male  32.0\n",
       "\n",
       "[891 rows x 3 columns]"
      ]
     },
     "execution_count": 21,
     "metadata": {},
     "output_type": "execute_result"
    }
   ],
   "source": [
    "train[['Pclass','Sex','Age']]"
   ]
  },
  {
   "cell_type": "code",
   "execution_count": 22,
   "id": "9c9b21f9-63a8-4775-ba60-1786657388fc",
   "metadata": {},
   "outputs": [
    {
     "name": "stdout",
     "output_type": "stream",
     "text": [
      "                Age\n",
      "Pclass Sex         \n",
      "1      female  35.0\n",
      "       male    40.0\n",
      "2      female  28.0\n",
      "       male    30.0\n",
      "3      female  21.5\n",
      "       male    25.0\n"
     ]
    }
   ],
   "source": [
    "# 2. Age컬럼을 중앙갑으로 채워주긴 할건데, Pclass와 성별을 고려하여 데이터를 채워주기\n",
    "# Age컬럼을  Pclass와 성별 컬럼을 기준으로 pt2 제작\n",
    "# -> 그룹화 함수(groupby)를 사용한다.\n",
    "\n",
    "\n",
    "pt2 = train[['Age', 'Pclass','Sex']].groupby(['Pclass','Sex']).median()\n",
    "\n",
    "print(pt2)"
   ]
  },
  {
   "cell_type": "code",
   "execution_count": 23,
   "id": "eb144194-65de-433d-88ab-1ecfc2b25e10",
   "metadata": {},
   "outputs": [],
   "source": [
    "def fill_age(train) : # train 데이터를 전달\n",
    "\n",
    "    # Age가 결측치일 경우에\n",
    "    if np.isnan(train['Age']) :\n",
    "\n",
    "        # pt2에서 결측치 데이터의 pclass 값과 성별 값을 가져오기\n",
    "        \n",
    "        age_data = pt2.loc[(train['Pclass'],train['Sex']), 'Age'] \n",
    "        return age_data\n",
    "        \n",
    "    # 결측치가 아닌 경우에\n",
    "    else :\n",
    "        return train['Age']"
   ]
  },
  {
   "cell_type": "code",
   "execution_count": 28,
   "id": "f4c9fbfa-e540-421b-8f30-30d10e0e28a7",
   "metadata": {},
   "outputs": [
    {
     "name": "stdout",
     "output_type": "stream",
     "text": [
      "177\n"
     ]
    },
    {
     "data": {
      "text/plain": [
       "0"
      ]
     },
     "execution_count": 28,
     "metadata": {},
     "output_type": "execute_result"
    }
   ],
   "source": [
    "# train의 Age 컬럼의 결측치 채워주기\n",
    "# apply함수 활용 결측치를 자동으로 채워주게끔 설계\n",
    "# apply함수는 사용자가 정의한 함수를 한 행 단위로 작용하게 끔 도와주는 함수\n",
    "import numpy as np\n",
    "# -> def 사용자 정의 함수\n",
    "#def aa():\n",
    "# 해당 데이터가 결측치라면, pclass와 성별을 고려해서 pt2에서 알맞는 값을 꺼내서 넣어주고,\n",
    "# 결축\n",
    "    \n",
    "bool3 = train['Age'].isnull()\n",
    "print(len(train[bool3]))\n",
    "\n",
    "\n",
    "df = train[['Age', 'Pclass','Sex','PassengerId']]\n",
    "\n",
    "\n",
    "for i in range(len(df)):\n",
    "    if np.isnan(df.iloc[i, 0]):  # NaN인지 확인\n",
    "        pclass = df.iloc[i, :]['Pclass']\n",
    "        sex = df.iloc[i, :]['Sex']\n",
    "        age = pt2.loc[(pclass, sex), 'Age']\n",
    "        train.loc[i,'Age'] = age \n",
    "        #df.iloc[i, 0]   # 수정된 값을 df에 반영\n",
    "\n",
    "# 결과 확인\n",
    "\n",
    "    \n",
    "\n",
    "train['Age'].isnull().sum()\n",
    "\n",
    "\n"
   ]
  },
  {
   "cell_type": "code",
   "execution_count": 45,
   "id": "4bba5783-7123-4aac-abed-7262f9bd617a",
   "metadata": {},
   "outputs": [
    {
     "name": "stderr",
     "output_type": "stream",
     "text": [
      "C:\\Users\\smhrd\\AppData\\Local\\Temp\\ipykernel_11408\\2095812573.py:10: FutureWarning: A value is trying to be set on a copy of a DataFrame or Series through chained assignment using an inplace method.\n",
      "The behavior will change in pandas 3.0. This inplace method will never work because the intermediate object on which we are setting values always behaves as a copy.\n",
      "\n",
      "For example, when doing 'df[col].method(value, inplace=True)', try using 'df.method({col: value}, inplace=True)' or df[col] = df[col].method(value) instead, to perform the operation inplace on the original object.\n",
      "\n",
      "\n",
      "  test['Cabin'].fillna('M',inplace=True)\n"
     ]
    }
   ],
   "source": [
    "# Cabin(객실번호)를 채우기\n",
    "# 객실번호는 가족이 아니라면 각자 다른 방에 있기 때문에, 각기 다른 방 번호를 가질 수 밖에 없다.\n",
    "# 최빈값으로 데이터를 채우면, 해당 데이터는 신뢰성이 떨어진다.\n",
    "\n",
    "# 1. nan값을 Missing(미상)으로 채우고\n",
    "# -> 'M'이라는 특정 문자로 결측치를 일괄적으로 처리 :fill_na\n",
    "\n",
    "\n",
    "train['Cabin'].fillna('M',inplace=True)\n",
    "test['Cabin'].fillna('M',inplace=True)\n",
    "\n",
    "# 2. 객실번호 데이터에서, 층수 데이터만 뽑아오기\n",
    "# -> DataFrame 자료를 연산하기 쉬운 형태로 저장하는 것이 목표\n",
    "# str :DataFrame, Series에서 문자데이터를 일괄적으로 뽑아오는 함수\n",
    "# -> 인덱싱, 슬라이싱과 같이 사용된다.\n",
    "train['Deck'] = train['Cabin'].str[0]\n",
    "test['Deck'] = test['Cabin'].str[0]"
   ]
  },
  {
   "cell_type": "code",
   "execution_count": 49,
   "id": "ece466c5-1be2-4e0b-a98f-aca56b28b2d8",
   "metadata": {},
   "outputs": [],
   "source": [
    "# 필요없는 특성을 제거\n",
    "# Cabin과 Ticket의 데이터 삭제\n",
    "\n",
    "train.drop(['Cabin','Ticket'], axis=1, inplace=True)\n",
    "test.drop(['Cabin','Ticket'], axis=1, inplace=True)"
   ]
  },
  {
   "cell_type": "code",
   "execution_count": 50,
   "id": "f1995cb9-e3d5-4021-914f-668c320fd1ca",
   "metadata": {},
   "outputs": [
    {
     "name": "stdout",
     "output_type": "stream",
     "text": [
      "<class 'pandas.core.frame.DataFrame'>\n",
      "RangeIndex: 891 entries, 0 to 890\n",
      "Data columns (total 11 columns):\n",
      " #   Column       Non-Null Count  Dtype  \n",
      "---  ------       --------------  -----  \n",
      " 0   PassengerId  891 non-null    int64  \n",
      " 1   Survived     891 non-null    int64  \n",
      " 2   Pclass       891 non-null    int64  \n",
      " 3   Name         891 non-null    object \n",
      " 4   Sex          891 non-null    object \n",
      " 5   Age          891 non-null    float64\n",
      " 6   SibSp        891 non-null    int64  \n",
      " 7   Parch        891 non-null    int64  \n",
      " 8   Fare         891 non-null    float64\n",
      " 9   Embarked     891 non-null    object \n",
      " 10  Deck         891 non-null    object \n",
      "dtypes: float64(2), int64(5), object(4)\n",
      "memory usage: 76.7+ KB\n"
     ]
    }
   ],
   "source": [
    "train.info()"
   ]
  },
  {
   "cell_type": "markdown",
   "id": "8492f5a0-4aa0-4a2a-bf65-3a3edf4f719e",
   "metadata": {},
   "source": [
    "### EDA(탐색적 데이터 분석)\n",
    "\n",
    "    1. Deck(층) 데이터가 Survived(생존)과 연관이 있는지 확인한다.\n",
    "    2. Pclass(티켓 등급)데이터가 Survived(생존)과 연관이 얼마나 있는지 확인한다.\n",
    "    3. Deck와 Pclass의 시각화를 통해 어느 층이 티켓 등급이 높았는지 확인"
   ]
  },
  {
   "cell_type": "code",
   "execution_count": 56,
   "id": "f331aac0-5a7a-4f11-bc7b-59c52276cd68",
   "metadata": {},
   "outputs": [
    {
     "data": {
      "image/png": "[encoded data removed]",
      "text/plain": [
       "<Figure size 640x480 with 1 Axes>"
      ]
     },
     "metadata": {},
     "output_type": "display_data"
    }
   ],
   "source": [
    "# 1. Deck와 Survived 시각화\n",
    "\n",
    "train['Deck'].unique()\n",
    "\n",
    "# 범주화 된(MBTI) 데이터를 시각화할 때 사용하는 그래프\n",
    "# -> count_plot\n",
    "# countplot(data = 데이터, x= 기준이 되는 컬럼명, hue = 관측할 컬럼의 이름)\n",
    "sns.countplot(data = train, x='Deck',hue='Survived' )\n",
    "\n",
    "# 그래프 출력\n",
    "plt.show()\n",
    "\n",
    "# C, E, D , B층에 거준하는 사람들은 비교적 생존율이 높았다.\n",
    "# T층에 거주하는 사람들은 전부 사망했다."
   ]
  },
  {
   "cell_type": "code",
   "execution_count": 57,
   "id": "c36e0b99-5fcb-4537-8eb6-8aa6a7654172",
   "metadata": {},
   "outputs": [
    {
     "data": {
      "text/plain": [
       "<Axes: xlabel='Deck', ylabel='count'>"
      ]
     },
     "execution_count": 57,
     "metadata": {},
     "output_type": "execute_result"
    },
    {
     "data": {
      "image/png": "[encoded data removed]",
      "text/plain": [
       "<Figure size 640x480 with 1 Axes>"
      ]
     },
     "metadata": {},
     "output_type": "display_data"
    }
   ],
   "source": [
    "# 1. 방번호가 Missing인 사람들은 Pclass가 낮았기 때문에, 승선하는대로 객실을 배정 받았을 확률이 높았을 것이다.\n",
    "\n",
    "# 2. 위의 이유로 객실번호에 대한 기록이 많이 남지 않았을 것이다.\n",
    "\n",
    "# 3. Pclass과 Deck간의 관계성을 시각화해보자\n",
    "# ->  countplot을 활용해서 Deck를 기준으로 Pclass를 관측\n",
    "\n",
    "sns.countplot(data = train, x='Deck',hue='Pclass' )"
   ]
  },
  {
   "cell_type": "code",
   "execution_count": 67,
   "id": "893ddffc-6c97-4c0e-be49-98e0a29e0b7d",
   "metadata": {},
   "outputs": [
    {
     "data": {
      "image/png": "[encoded data removed]",
      "text/plain": [
       "<Figure size 640x480 with 1 Axes>"
      ]
     },
     "metadata": {},
     "output_type": "display_data"
    }
   ],
   "source": [
    "# 1. Pclass와 Survived간의 데이터 시각화\n",
    "sns.countplot(data = train, x='Pclass',hue='Survived' )\n",
    "\n",
    "\n",
    "\n",
    "plt.show()"
   ]
  },
  {
   "cell_type": "code",
   "execution_count": 60,
   "id": "5125b70b-3393-4eaf-823b-10cd9b056a5d",
   "metadata": {},
   "outputs": [
    {
     "data": {
      "text/plain": [
       "<Axes: xlabel='Sex', ylabel='count'>"
      ]
     },
     "execution_count": 60,
     "metadata": {},
     "output_type": "execute_result"
    },
    {
     "data": {
      "image/png": "[encoded data removed]",
      "text/plain": [
       "<Figure size 640x480 with 1 Axes>"
      ]
     },
     "metadata": {},
     "output_type": "display_data"
    }
   ],
   "source": [
    "# 2. 성별과 Survived간의 데이터 시각화\n",
    "sns.countplot(data = train, x='Sex',hue='Survived' )"
   ]
  },
  {
   "cell_type": "code",
   "execution_count": 91,
   "id": "47857d0a-67f7-4445-b838-a27bc36f6405",
   "metadata": {},
   "outputs": [
    {
     "data": {
      "text/plain": [
       "<seaborn.axisgrid.FacetGrid at 0x257fe520b30>"
      ]
     },
     "execution_count": 91,
     "metadata": {},
     "output_type": "execute_result"
    },
    {
     "data": {
      "image/png": "[encoded data removed]",
      "text/plain": [
       "<Figure size 1072.11x500 with 2 Axes>"
      ]
     },
     "metadata": {},
     "output_type": "display_data"
    }
   ],
   "source": [
    "# 3. Pclass, 성별을 기준으로 Survived 시각화\n",
    "# -> 기준이 2개일 경우에 사용하는 그래프 : catplot\n",
    "# catplot(data = df, x = 첫번째 기준, col = 두번째 기준, hue = 관측할 특성, kind = 그래프의 유형)\n",
    "\n",
    "sns.catplot(data = train, x = 'Pclass', col = 'Sex', hue = 'Survived', kind='count', palette='pastel')\n",
    "\n",
    "# 성별이 남자인 경우에는 Pclass가 1등급이더라도, 많이 사망하였다. 2. 3등급 다수가 사망하였다.\n",
    "# 성별이 여자인 경우에는 Pclass가 1, 2등급이라면, 대부분 생존하였다."
   ]
  },
  {
   "cell_type": "markdown",
   "id": "cf65c296-12f6-4293-b0ec-1a411a834545",
   "metadata": {},
   "source": [
    "### 수치형 데이터를 시각화\n",
    "    1. Fare(요금) 데이터를 Survived(생존)과 연관지어서 시각화\n",
    "    2. Parch(부모 + 자식)과 SibSp(배우자 + 형제)컬럼을 특성공학한 다음, 결과물을 시각화"
   ]
  },
  {
   "cell_type": "code",
   "execution_count": 97,
   "id": "01d5f722-f3c7-4673-97ee-0a9e4886f74b",
   "metadata": {},
   "outputs": [
    {
     "data": {
      "image/png": "[encoded data removed]",
      "text/plain": [
       "<Figure size 640x480 with 1 Axes>"
      ]
     },
     "metadata": {},
     "output_type": "display_data"
    }
   ],
   "source": [
    "# 수치형 데이터는 countplot으로 시각화가 효과적이지 않다.\n",
    "# countplot mbti처럼 미리 정의된 몇 가지 클래스를 시각화하는 그래프\n",
    "\n",
    "# sns.countplot(data = train, x = 'Fare', hue = 'Survived')\n",
    "\n",
    "# 수치형 데이터는 violinplot이 일반적으로 시각화 효율이 좋다. -> 데이터의 분포를 확인\n",
    "\n",
    "sns.violinplot(data=train, y = 'Fare', x = 'Sex', hue = 'Survived', split=True)\n",
    "plt.show()\n",
    "\n",
    "# Fare가 높을 수록 생존율은 올라간다."
   ]
  },
  {
   "cell_type": "code",
   "execution_count": 99,
   "id": "8b9aadbb-ae2f-4104-b070-9a3cf0952f91",
   "metadata": {},
   "outputs": [
    {
     "data": {
      "image/png": "[encoded data removed]",
      "text/plain": [
       "<Figure size 640x480 with 1 Axes>"
      ]
     },
     "metadata": {},
     "output_type": "display_data"
    }
   ],
   "source": [
    "# Age컬럼과, 성별 컬럼을 기준으로 생존자 유무 데이터 시각화 진행\n",
    "# Violinplot을 활용해서 성별과 나이를 기준으로 어느 연령대가 많이 죽었는지 확인\n",
    "\n",
    "\n",
    "sns.violinplot(data=train, y = 'Age', x = 'Sex', hue = 'Survived', split=True, palette='Set2')\n",
    "\n",
    "# seaborn, matplotlib를 통해서 그린 그래프트를 파일로 저장\n",
    "# -> plt.savefig(확장자를 포함한 경로, dpi = 화질)\n",
    "# 주의점 : plt.show() 하기 전의 그래프가 저장되기 때문에 show를 쓰기 전에 작성해야한다.\n",
    "\n",
    "plt.savefig('성별_나이_생존분석.jpg')\n",
    "\n",
    "# 남자는 평균적으로 사망자가 더 많지만, 10살 미만의 남자 아이는 대부분 생존했다.\n",
    "# 여자는 생존가 많은 양상을 보이지만, 10살 미만의 여자 아이는 사망자의 비율이 더 높았다."
   ]
  }
 ],
 "metadata": {
  "kernelspec": {
   "display_name": "Python 3 (ipykernel)",
   "language": "python",
   "name": "python3"
  },
  "language_info": {
   "codemirror_mode": {
    "name": "ipython",
    "version": 3
   },
   "file_extension": ".py",
   "mimetype": "text/x-python",
   "name": "python",
   "nbconvert_exporter": "python",
   "pygments_lexer": "ipython3",
   "version": "3.12.7"
  }
 },
 "nbformat": 4,
 "nbformat_minor": 5
}
