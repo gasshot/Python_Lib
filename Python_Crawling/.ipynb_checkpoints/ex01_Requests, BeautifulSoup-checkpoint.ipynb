{
 "cells": [
  {
   "cell_type": "markdown",
   "id": "17873cca-d0e3-436d-afc9-e2644a6e2889",
   "metadata": {},
   "source": [
    "## 웹 스크래핑?\n",
    "- **특정 웹페이지**에서 필요한 정보를 추출하는 프로세스\n",
    "> ex.웹 페이지에서 제품의 가격, 리뷰, 이미지 등의 정보를 수집하는 것"
   ]
  },
  {
   "cell_type": "markdown",
   "id": "4f1e65df-3743-4e60-9105-2653318a0d67",
   "metadata": {},
   "source": [
    "### Requests Library\n",
    "- HTTP 요청을 보낼 때 사용되는 라이브러리"
   ]
  },
  {
   "cell_type": "code",
   "execution_count": 172,
   "id": "98f095ca-a96c-48b6-af69-d4d914bd45d6",
   "metadata": {},
   "outputs": [],
   "source": [
    "import requests as req"
   ]
  },
  {
   "cell_type": "code",
   "execution_count": 173,
   "id": "f3426941-0ed4-4f00-93de-e0e8ec98c5cd",
   "metadata": {},
   "outputs": [
    {
     "data": {
      "text/plain": [
       "'2.2.2'"
      ]
     },
     "execution_count": 173,
     "metadata": {},
     "output_type": "execute_result"
    }
   ],
   "source": [
    "import pandas as pd\n",
    "\n",
    "pd.__version__"
   ]
  },
  {
   "cell_type": "markdown",
   "id": "2eb5eaeb-fb9c-4f20-86f1-3fee9feaa6ab",
   "metadata": {},
   "source": [
    "### 스크래핑 단계\n",
    "1. 요청\n",
    "2. 파싱 > 요소를 지정하기 위해 분할하는 작업\n",
    "3. 지정 및 추출\n",
    "4. 저장"
   ]
  },
  {
   "cell_type": "code",
   "execution_count": 175,
   "id": "4547bf99-1fc2-4dab-8eeb-8a2f7651ed2b",
   "metadata": {},
   "outputs": [
    {
     "data": {
      "text/plain": [
       "<Response [200]>"
      ]
     },
     "execution_count": 175,
     "metadata": {},
     "output_type": "execute_result"
    }
   ],
   "source": [
    "#1. 요청\n",
    "url = \"https://news.naver.com/\"\n",
    "\n",
    "res = req.get(url)\n",
    "res\n",
    "# 200번대: 통신에 성공! > 요청을 하였고, 응답을 받았다.\n",
    "# 400번대: Bad Requests, 사용자(CT)가 잘못했거나 만료된 페이지(없는 페이지)\n",
    "# 500번대: 일반적으로 서버 축의 오류(ex.서버가 다운됨)"
   ]
  },
  {
   "cell_type": "code",
   "execution_count": 176,
   "id": "bf3c4331-51a6-40a0-9b44-e97ec0682684",
   "metadata": {},
   "outputs": [
    {
     "data": {
      "text/plain": [
       "<Response [404]>"
      ]
     },
     "execution_count": 176,
     "metadata": {},
     "output_type": "execute_result"
    }
   ],
   "source": [
    "# 일부러 틀려보기!\n",
    "req.get(\"https://news.naver.com/ddd\")"
   ]
  },
  {
   "cell_type": "code",
   "execution_count": 177,
   "id": "6d3f8ffd-2eeb-49af-8e64-80058b2e9296",
   "metadata": {},
   "outputs": [],
   "source": [
    "#2. 파싱 : 지정이 가능토록, 비정형화 되어있는 문자열을 html 코드(객체)로 인식될 수 있게 쪼개주는 과정\n",
    "from bs4 import BeautifulSoup as bs # 파싱하는 도구(문서 자체를 트리구조로 만들어서 특정태그를 쉽게 찾을 수 있도록 하는 도구)\n",
    "\n",
    "# bs(\"문자열\", \"파싱방법\") > 파싱방법: \"Lxml\"\n",
    "soup = bs(res.text, 'lxml')"
   ]
  },
  {
   "cell_type": "code",
   "execution_count": 178,
   "id": "c5e6e510-a81d-4332-bdd5-230e14b0fac3",
   "metadata": {},
   "outputs": [
    {
     "data": {
      "text/plain": [
       "bs4.BeautifulSoup"
      ]
     },
     "execution_count": 178,
     "metadata": {},
     "output_type": "execute_result"
    }
   ],
   "source": [
    "type(soup)"
   ]
  },
  {
   "cell_type": "code",
   "execution_count": 179,
   "id": "65b89692-4211-425b-8109-fd29563758a6",
   "metadata": {},
   "outputs": [
    {
     "data": {
      "text/plain": [
       "[<span class=\"Nitem_link_menu\">언론사별</span>,\n",
       " <span class=\"Nitem_link_menu\">정치</span>,\n",
       " <span class=\"Nitem_link_menu\">경제</span>,\n",
       " <span class=\"Nitem_link_menu\">사회</span>,\n",
       " <span class=\"Nitem_link_menu\">생활/문화</span>,\n",
       " <span class=\"Nitem_link_menu\">IT/과학</span>,\n",
       " <span class=\"Nitem_link_menu\">세계</span>,\n",
       " <span class=\"Nitem_link_menu\">랭킹</span>,\n",
       " <span class=\"Nitem_link_menu\">신문보기</span>,\n",
       " <span class=\"Nitem_link_menu\">오피니언</span>,\n",
       " <span class=\"Nitem_link_menu\">TV</span>,\n",
       " <span class=\"Nitem_link_menu\">팩트체크</span>,\n",
       " <span class=\"Nitem_link_menu\">알고리즘 안내</span>,\n",
       " <span class=\"Nitem_link_menu\">정정보도 모음</span>]"
      ]
     },
     "execution_count": 179,
     "metadata": {},
     "output_type": "execute_result"
    }
   ],
   "source": [
    "#3. 지정, 추출\n",
    "top_titles = soup.select(\"ul > li > a > span\")\n",
    "# soup.select(\".Nitem_link_menu\") # html 지정방식 편한걸로\n",
    "top_titles\n",
    "\n",
    "# 1) select(\"선택자 경로\") : 다중요소 지정\n",
    "# 2) select_one(\"선택자 경로\") : 단일 요소 지정"
   ]
  },
  {
   "cell_type": "markdown",
   "id": "07c4ef36-0176-429b-9199-79e1fdd2d164",
   "metadata": {},
   "source": [
    "- 선택자 지정법\n",
    "\n",
    "| 종류 | 설명 | 예시 |\n",
    "|---|---|---|\n",
    "| 요소 선택자 | HTML 요소를 직접 선택 | `h1 { color: red; }` |\n",
    "| 클래스 선택자 | HTML에서 클래스를 통해 선택 | `.classname { color: blue; }` |\n",
    "| 아이디 선택자 | HTML에서 아이디를 통해 선택 | `#idname { color: green; }` |\n",
    "| 전체 선택자 | 페이지의 모든 요소를 선택 | `* { margin: 0; padding: 0; }` |\n",
    "| 자손 선택자 | 특정 요소의 자손을 선택 | `div p { color: orange; }` |\n",
    "| 자식 선택자 | 특정 요소의 직접적인 자식만 선택 | `div > p { color: pink; }` |\n",
    "| 인접 형제 선택자 | 특정 요소의 바로 다음 형제만 선택 | `h1 + h2 { color: purple; }` |\n",
    "| 일반 형제 선택자 | 특정 요소의 모든 다음 형제들을 선택 | `h1 ~ h2 { color: brown; }` |\n",
    "| 속성 선택자 | 특정 속성을 가진 요소를 선택 | `input[type=\"text\"] { color: gray; }` |\n",
    "| 의사 클래스 선택자 | 특정 상태에 있는 요소를 선택 (ex. hover, active 등) | `a:hover { color: teal; }` |\n",
    "| 의사 요소 선택자 | 요소의 특정 부분을 선택 (ex. ::before, ::after) | `p::first-letter { font-size: 2em; }` |"
   ]
  },
  {
   "cell_type": "code",
   "execution_count": 181,
   "id": "0620f7e3-5dbc-4f2a-b088-c227d0a916ae",
   "metadata": {},
   "outputs": [
    {
     "data": {
      "text/plain": [
       "'언론사별'"
      ]
     },
     "execution_count": 181,
     "metadata": {},
     "output_type": "execute_result"
    }
   ],
   "source": [
    "# 추출\n",
    "top_titles[0].text"
   ]
  },
  {
   "cell_type": "markdown",
   "id": "baff0922-020e-4390-9506-02b9a362f3f2",
   "metadata": {},
   "source": [
    "```Python\n",
    "news_cate = []\n",
    "for title in top_titles:\n",
    "    news_cate.append(title.text)   "
   ]
  },
  {
   "cell_type": "code",
   "execution_count": 183,
   "id": "d8380a7d-4ea5-4dc8-bc92-dbd95a64716a",
   "metadata": {},
   "outputs": [
    {
     "data": {
      "text/plain": [
       "['언론사별',\n",
       " '정치',\n",
       " '경제',\n",
       " '사회',\n",
       " '생활/문화',\n",
       " 'IT/과학',\n",
       " '세계',\n",
       " '랭킹',\n",
       " '신문보기',\n",
       " '오피니언',\n",
       " 'TV',\n",
       " '팩트체크',\n",
       " '알고리즘 안내',\n",
       " '정정보도 모음']"
      ]
     },
     "execution_count": 183,
     "metadata": {},
     "output_type": "execute_result"
    }
   ],
   "source": [
    "# 리스트 컴프리헨션 (리스트 내포, Coprehension) 위의 반복문과 같음\n",
    "news_cate = [title.text for title in top_titles]\n",
    "news_cate"
   ]
  },
  {
   "cell_type": "code",
   "execution_count": 184,
   "id": "b4247fb5-5ed0-4500-adb8-e1d019dc3e2d",
   "metadata": {},
   "outputs": [],
   "source": [
    "#4. 저장 (생략)"
   ]
  },
  {
   "cell_type": "markdown",
   "id": "528e182a-f7aa-4c25-8c31-726b29b455bc",
   "metadata": {},
   "source": [
    "### 실습! 뉴스 타이틀 수집!\n",
    "- Naver에서 query(사용자 입력값) 검색 후, 나오는 뉴스 제목 수집"
   ]
  },
  {
   "cell_type": "code",
   "execution_count": 186,
   "id": "0acac7e9-3789-4457-9a53-c25e7664f943",
   "metadata": {},
   "outputs": [
    {
     "name": "stdin",
     "output_type": "stream",
     "text": [
      "검색 :  지드래곤\n"
     ]
    },
    {
     "data": {
      "text/plain": [
       "[\"지드래곤·영탁·스키즈...KM차트, '2024 시즌베스트 윈터' 후보 공개\",\n",
       " '김태균, 복권 당첨기회 놓쳤다 \"지드래곤 꿈에 나왔는데…\" (\\'컬투쇼\\')',\n",
       " '[디시트렌드] 지드래곤, 독보적 1위 지켜…지코와 비오의 추격은 계속된...',\n",
       " '[뮤지션100데일리] 임영웅 종합 1위·이예은 급등 1위…지드래곤 멜론 등...',\n",
       " '방탄소년단·블랙핑크·지드래곤, ‘레전드판’ 열린다[신년기획]',\n",
       " '명세빈, 지드래곤 픽 잠옷 입고 온몸이 삐그덕 “정신차려”',\n",
       " '지드래곤, 무안공항 참사 희생자 애도…흑백 데이지꽃',\n",
       " '트와이스-지드래곤-지민, 12월 4주차 벅스 페이버릿 투표 1위 [Favorite]',\n",
       " '[디시트렌드] 지드래곤, 랩·힙합 인기투표 1위… 지코·비오 선두 다툼...',\n",
       " \"임영웅 '묵념'·지드래곤 '국화꽃'·김장훈 '공연취소'…제주항공 참사...\"]"
      ]
     },
     "execution_count": 186,
     "metadata": {},
     "output_type": "execute_result"
    }
   ],
   "source": [
    "serch = input(\"검색 : \")\n",
    "url2 = f\"https://search.naver.com/search.naver?ssc=tab.news.all&where=news&sm=tab_jum&query={serch}\"\n",
    "res2 = req.get(url2)\n",
    "soup2 = bs(res2.text, 'lxml')\n",
    "top_titles1 = soup2.select(\".news_tit\")\n",
    "news_cate2 = [title.text for title in top_titles1]\n",
    "news_cate2"
   ]
  },
  {
   "cell_type": "code",
   "execution_count": 230,
   "id": "52f3a911-0de4-44bf-a784-3205d9c77c72",
   "metadata": {},
   "outputs": [
    {
     "name": "stdin",
     "output_type": "stream",
     "text": [
      "검색어를 입력해주세요 >>  기아타이거즈\n"
     ]
    },
    {
     "data": {
      "text/plain": [
       "['창사 이래 최대 실적… 기아, 2024년 308만대 팔았다',\n",
       " '기아 타이거즈 선수단, 제주항공 합동분향소 찾아…80여명 단체 조문',\n",
       " '김병현 \"더 잘해주지 못해 미안\"...KIA 타이거즈 지인 가족 추모',\n",
       " \"기아타이거즈, '명가의 품격'으로 우승 왕조 새 역사 쓴다\",\n",
       " 'KIA 타이거즈 이범호 감독·양현종 등 합동분향소 조문',\n",
       " '최연소 3살 희생자 아빠, KIA타이거즈 직원이었다…“기적 바랐지만”',\n",
       " '김병현, 여객기 참사에 희생된 기아타이거즈 소속 지인 애도',\n",
       " '\"3세 아들 여권에 첫 도장 쾅\"…\\'기아 우승\\' 축하 여행 일가족 참변',\n",
       " '[제주항공 무안참사] “아들 첫 여권에 첫 도장” 기아 우승 기념 일가...',\n",
       " '\"첫 해외여행 3세 아들…잘 놀아줘 행복\" 故기아타이거즈 팀장 SNS에 애...']"
      ]
     },
     "execution_count": 230,
     "metadata": {},
     "output_type": "execute_result"
    }
   ],
   "source": [
    "# 1. 요청\n",
    "search_k = input(\"검색어를 입력해주세요 >> \")\n",
    "\n",
    "url3 = f\"https://search.naver.com/search.naver?ssc=tab.news.all&where=news&sm=tab_jum&query={search_k}\"\n",
    "\n",
    "res3 = req.get(url3)\n",
    "\n",
    "# 2. 파싱\n",
    "soup3 = bs(res3.text,'lxml')\n",
    "\n",
    "# 3. 지정, 추출\n",
    "news_titles3 = soup3.select(\"a.news_tit\")\n",
    "\n",
    "content = [title.text for title in news_titles3]\n",
    "\n",
    "content"
   ]
  },
  {
   "cell_type": "code",
   "execution_count": null,
   "id": "3c15284e-3578-4053-b5d7-ead043053c51",
   "metadata": {},
   "outputs": [],
   "source": []
  }
 ],
 "metadata": {
  "kernelspec": {
   "display_name": "Python [conda env:base] *",
   "language": "python",
   "name": "conda-base-py"
  },
  "language_info": {
   "codemirror_mode": {
    "name": "ipython",
    "version": 3
   },
   "file_extension": ".py",
   "mimetype": "text/x-python",
   "name": "python",
   "nbconvert_exporter": "python",
   "pygments_lexer": "ipython3",
   "version": "3.12.7"
  }
 },
 "nbformat": 4,
 "nbformat_minor": 5
}
