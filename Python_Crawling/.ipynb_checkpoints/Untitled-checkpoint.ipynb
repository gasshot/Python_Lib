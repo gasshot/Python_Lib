{
 "cells": [
  {
   "cell_type": "code",
   "execution_count": 50,
   "id": "27ff5f17-f5be-415b-a678-dc2bdee799fe",
   "metadata": {},
   "outputs": [
    {
     "name": "stdout",
     "output_type": "stream",
     "text": [
      "Collecting schedule\n",
      "  Downloading schedule-1.2.2-py3-none-any.whl.metadata (3.8 kB)\n",
      "Downloading schedule-1.2.2-py3-none-any.whl (12 kB)\n",
      "Installing collected packages: schedule\n",
      "Successfully installed schedule-1.2.2\n"
     ]
    }
   ],
   "source": [
    "#https://www.youtube.com/watch?v=e_YVzqEiA0U\n",
    "!pip install schedule"
   ]
  },
  {
   "cell_type": "code",
   "execution_count": 1,
   "id": "1473a100-8229-463a-b156-9abd6a2ccf2e",
   "metadata": {},
   "outputs": [],
   "source": [
    "# 크롤링 라이브러리(Selenium)\n",
    "from selenium import webdriver as wb # 컴퓨터용 브라우저\n",
    "from selenium.webdriver.common.by import By # Selenium 라이브러리에서 웹 요소\n",
    "from selenium.webdriver.common.keys import Keys # 키보드 이벤트를 시뮬레이션\n",
    "\n",
    "import time\n",
    "\n",
    "from tqdm import tqdm # 반복문 진행 현황 출력하는 도구"
   ]
  },
  {
   "cell_type": "code",
   "execution_count": 2,
   "id": "258deb3e-5ca2-4ff7-abba-925952537779",
   "metadata": {},
   "outputs": [],
   "source": [
    "def youtube_comment():\n",
    "    driver = wb.Chrome()\n",
    "    driver.get('https://www.youtube.com/watch?v=e_YVzqEiA0U')\n",
    "    time.sleep(1)\n",
    "    driver.maximize_window()\n",
    "\n",
    "    check1 = driver.find_elements(By.CSS_SELECTOR,'#author-text > span')\n",
    "    check2 = driver.find_elements(By.CSS_SELECTOR,'#content-text > span')\n",
    "    check3 = driver.find_elements(By.CSS_SELECTOR,'#vote-count-middle')\n",
    "    check4 = driver.find_elements(By.CSS_SELECTOR,'#comment > div#body > div#author-thumbnail > a > yt-img-shadow > #img')\n",
    "\n",
    "    final = {'유저명':[],'댓글':[], '좋아요':[],'프로필사진(src)':[]}\n",
    "\n",
    "    #len(check4)\n",
    "\n",
    "    for i in range(len(check1)):\n",
    "    \n",
    "        final['유저명'].append(check1[i].text)\n",
    "        final['댓글'].append(check2[i].text)\n",
    "        final['좋아요'].append(check3[i].text)\n",
    "        final['프로필사진(src)'].append(check4[i].get_attribute('src'))\n",
    "        #print(check4[i].get_attribute('src'))\n",
    "\n",
    "\n"
   ]
  },
  {
   "cell_type": "code",
   "execution_count": 48,
   "id": "2ff1f10f-67eb-42a4-8820-06e7d218fbc0",
   "metadata": {},
   "outputs": [
    {
     "name": "stdout",
     "output_type": "stream",
     "text": [
      "https://yt3.ggpht.com/9Rckt5bAKqIWUogVMqqC4gwWgL4PGCu5XPZJOkyNxgjQl_w8PBkV4fjC-D8VTjBtUgT4GBPyGQ=s88-c-k-c0x00ffffff-no-rj\n",
      "https://yt3.ggpht.com/CQskwiBj-sdTAl1txZFns7qf_wSP3Enn-kgeKmrUdXNUqxGDNserY0Y-BeWprFGY4p7Gx-CttIc=s88-c-k-c0x00ffffff-no-rj\n",
      "https://yt3.ggpht.com/txEgUfEi8vusET-puMVBF0SDvar3O3iXThGUnZXy5NjgUDRfOfuns_fauzsb7HrpWGiYcOT0ug=s88-c-k-c0x00ffffff-no-rj\n",
      "https://yt3.ggpht.com/FKK3XhJWil16tK9yyLM6X_2AtIdgRy2gL7J_kEhM9zZOsr_dmvCP80RY06B7YxPaxevQO_cG=s88-c-k-c0x00ffffff-no-rj\n",
      "https://yt3.ggpht.com/4WRpG_e5jlKMJ651PRmAwfo8KCF4Qt3un1wgqfIXhSi7VAu2gebvNtgiIQ8U5TKh_-mMOsFW_Q=s88-c-k-c0x00ffffff-no-rj\n",
      "https://yt3.ggpht.com/b4tpoS8sxi6BSb3OwxknlGiB_PgVoLjsovzuAT_WQCxDWtRxW3rC-6hBKnKMNa41_YGUm2TL=s88-c-k-c0x00ffffff-no-rj\n",
      "https://yt3.ggpht.com/_CbWMzvYGbdDsRJgKhai9MTsewYFwBcZsQmz_XobWsNTl1rrWHFLtDIFiEHbzTR1Zuc2DMlZNA=s88-c-k-c0x00ffffff-no-rj\n"
     ]
    }
   ],
   "source": [
    "\n",
    "\n",
    "\n",
    "\n"
   ]
  },
  {
   "cell_type": "code",
   "execution_count": 6,
   "id": "314c1a5b-90c2-43aa-8e73-4dbeaa16b8e6",
   "metadata": {},
   "outputs": [],
   "source": [
    "import pandas as pd"
   ]
  },
  {
   "cell_type": "code",
   "execution_count": null,
   "id": "73ae27f4-5a9e-4c40-9bef-f62f86ce1f7e",
   "metadata": {},
   "outputs": [],
   "source": []
  },
  {
   "cell_type": "code",
   "execution_count": 47,
   "id": "4b5333d3-4ad0-4c2b-b557-85fd33e32c8e",
   "metadata": {
    "scrolled": true
   },
   "outputs": [
    {
     "data": {
      "text/html": [
       "<div>\n",
       "<style scoped>\n",
       "    .dataframe tbody tr th:only-of-type {\n",
       "        vertical-align: middle;\n",
       "    }\n",
       "\n",
       "    .dataframe tbody tr th {\n",
       "        vertical-align: top;\n",
       "    }\n",
       "\n",
       "    .dataframe thead th {\n",
       "        text-align: right;\n",
       "    }\n",
       "</style>\n",
       "<table border=\"1\" class=\"dataframe\">\n",
       "  <thead>\n",
       "    <tr style=\"text-align: right;\">\n",
       "      <th></th>\n",
       "      <th>유저명</th>\n",
       "      <th>댓글</th>\n",
       "      <th>좋아요</th>\n",
       "      <th>프로필사진(src)</th>\n",
       "    </tr>\n",
       "  </thead>\n",
       "  <tbody>\n",
       "    <tr>\n",
       "      <th>0</th>\n",
       "      <td>@Flare33</td>\n",
       "      <td>For a second I thought it was wlop amazing art</td>\n",
       "      <td>3</td>\n",
       "      <td>https://yt3.ggpht.com/9Rckt5bAKqIWUogVMqqC4gwW...</td>\n",
       "    </tr>\n",
       "    <tr>\n",
       "      <th>1</th>\n",
       "      <td>@Voixsu</td>\n",
       "      <td>lovely work</td>\n",
       "      <td>2</td>\n",
       "      <td>https://yt3.ggpht.com/CQskwiBj-sdTAl1txZFns7qf...</td>\n",
       "    </tr>\n",
       "    <tr>\n",
       "      <th>2</th>\n",
       "      <td>@Acravator1</td>\n",
       "      <td>Nice timelapse. Very talented. :)</td>\n",
       "      <td>3</td>\n",
       "      <td>https://yt3.ggpht.com/txEgUfEi8vusET-puMVBF0SD...</td>\n",
       "    </tr>\n",
       "    <tr>\n",
       "      <th>3</th>\n",
       "      <td>@Blackiris_00</td>\n",
       "      <td>beautiful!</td>\n",
       "      <td>2</td>\n",
       "      <td>https://yt3.ggpht.com/FKK3XhJWil16tK9yyLM6X_2A...</td>\n",
       "    </tr>\n",
       "    <tr>\n",
       "      <th>4</th>\n",
       "      <td>@bloomy_art_</td>\n",
       "      <td>I definitely don't compere you with wlop; he i...</td>\n",
       "      <td>2</td>\n",
       "      <td>https://yt3.ggpht.com/4WRpG_e5jlKMJ651PRmAwfo8...</td>\n",
       "    </tr>\n",
       "    <tr>\n",
       "      <th>5</th>\n",
       "      <td>@pozionz-0565</td>\n",
       "      <td>Why not create your own story?</td>\n",
       "      <td>2</td>\n",
       "      <td>https://yt3.ggpht.com/b4tpoS8sxi6BSb3OwxknlGiB...</td>\n",
       "    </tr>\n",
       "    <tr>\n",
       "      <th>6</th>\n",
       "      <td>@YiArthur</td>\n",
       "      <td>i'm coming bro, having being waiting for this ...</td>\n",
       "      <td>2</td>\n",
       "      <td>https://yt3.ggpht.com/_CbWMzvYGbdDsRJgKhai9MTs...</td>\n",
       "    </tr>\n",
       "  </tbody>\n",
       "</table>\n",
       "</div>"
      ],
      "text/plain": [
       "             유저명                                                 댓글 좋아요  \\\n",
       "0       @Flare33     For a second I thought it was wlop amazing art   3   \n",
       "1        @Voixsu                                        lovely work   2   \n",
       "2    @Acravator1                  Nice timelapse. Very talented. :)   3   \n",
       "3  @Blackiris_00                                         beautiful!   2   \n",
       "4   @bloomy_art_  I definitely don't compere you with wlop; he i...   2   \n",
       "5  @pozionz-0565                    Why not create your own story?    2   \n",
       "6      @YiArthur  i'm coming bro, having being waiting for this ...   2   \n",
       "\n",
       "                                          프로필사진(src)  \n",
       "0  https://yt3.ggpht.com/9Rckt5bAKqIWUogVMqqC4gwW...  \n",
       "1  https://yt3.ggpht.com/CQskwiBj-sdTAl1txZFns7qf...  \n",
       "2  https://yt3.ggpht.com/txEgUfEi8vusET-puMVBF0SD...  \n",
       "3  https://yt3.ggpht.com/FKK3XhJWil16tK9yyLM6X_2A...  \n",
       "4  https://yt3.ggpht.com/4WRpG_e5jlKMJ651PRmAwfo8...  \n",
       "5  https://yt3.ggpht.com/b4tpoS8sxi6BSb3OwxknlGiB...  \n",
       "6  https://yt3.ggpht.com/_CbWMzvYGbdDsRJgKhai9MTs...  "
      ]
     },
     "execution_count": 47,
     "metadata": {},
     "output_type": "execute_result"
    }
   ],
   "source": [
    "result = pd.DataFrame(final)\n",
    "\n",
    "result"
   ]
  },
  {
   "cell_type": "code",
   "execution_count": 51,
   "id": "9f458d1f-6157-4d66-9035-7483cda56f27",
   "metadata": {},
   "outputs": [],
   "source": [
    "# schedule 라이브러리 활용한 자동화\n",
    "import schedule"
   ]
  },
  {
   "cell_type": "code",
   "execution_count": null,
   "id": "418516b3-5ee5-47c4-9866-851a22045c98",
   "metadata": {},
   "outputs": [],
   "source": [
    "# 스케줄 설정\n",
    "schedule.every(60).seconds.do(youtube_comment)"
   ]
  }
 ],
 "metadata": {
  "kernelspec": {
   "display_name": "Python 3 (ipykernel)",
   "language": "python",
   "name": "python3"
  },
  "language_info": {
   "codemirror_mode": {
    "name": "ipython",
    "version": 3
   },
   "file_extension": ".py",
   "mimetype": "text/x-python",
   "name": "python",
   "nbconvert_exporter": "python",
   "pygments_lexer": "ipython3",
   "version": "3.12.7"
  }
 },
 "nbformat": 4,
 "nbformat_minor": 5
}
