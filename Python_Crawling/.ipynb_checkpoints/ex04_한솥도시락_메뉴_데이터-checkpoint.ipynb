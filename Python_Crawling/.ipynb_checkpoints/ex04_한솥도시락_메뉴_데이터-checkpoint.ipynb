{
 "cells": [
  {
   "cell_type": "code",
   "execution_count": 1,
   "id": "be9a1d85-9a88-4cf0-82f0-94d380b2361a",
   "metadata": {},
   "outputs": [],
   "source": [
    "import numpy as np\n",
    "import pandas as pd\n",
    "\n",
    "from selenium import webdriver as wb\n",
    "from selenium.webdriver.common.by import By\n",
    "from selenium.webdriver.common.keys import Keys"
   ]
  },
  {
   "cell_type": "code",
   "execution_count": 5,
   "id": "5fba8954-aa2d-42da-93b5-117024da179e",
   "metadata": {},
   "outputs": [],
   "source": [
    "# 브라우저 열기\n",
    "driver = wb.Chrome()"
   ]
  },
  {
   "cell_type": "code",
   "execution_count": 6,
   "id": "0e018688-bbc2-465f-b2de-a155c784d854",
   "metadata": {},
   "outputs": [],
   "source": [
    "# 요청\n",
    "url = \"https://www.hsd.co.kr/menu/menu_list\"\n",
    "driver.get(url)"
   ]
  },
  {
   "cell_type": "code",
   "execution_count": 19,
   "id": "6f449372-4748-40e1-87e9-4c9e17f2646a",
   "metadata": {},
   "outputs": [],
   "source": [
    "# 더보기 버튼 클릭 하기\n",
    "# btn = driver.find_element(By.CSS_SELECTOR, \"#btn_more > span > a\")\n",
    "# btn.click()\n",
    "\n",
    "# Error를 활용해보자!"
   ]
  },
  {
   "cell_type": "code",
   "execution_count": 22,
   "id": "5d1a892e-556a-416b-9b14-d4b26342533e",
   "metadata": {},
   "outputs": [],
   "source": [
    "import time # 시간을 다루기 위한 라이브러리"
   ]
  },
  {
   "cell_type": "code",
   "execution_count": 24,
   "id": "7aac779c-8396-4206-804f-19313e078d9f",
   "metadata": {},
   "outputs": [
    {
     "name": "stdout",
     "output_type": "stream",
     "text": [
      "더보기 버튼 클릭 완료!\n"
     ]
    }
   ],
   "source": [
    "# try문 : 에러처리를 위한 문법\n",
    "\n",
    "while True :\n",
    "    try :\n",
    "        btn = driver.find_element(By.CSS_SELECTOR, \"#btn_more > span > a\")\n",
    "        btn.click()\n",
    "        time.sleep(2)\n",
    "    except :\n",
    "        print(\"더보기 버튼 클릭 완료!\")\n",
    "        break\n",
    "# 모든 요소들은 로드 되는데 지연시간 존재!\n",
    "# 만약에 반복문을 그냥 실행시키면, 로드가 로드 되는 도중에 프로그래밍 로직이 실행되면 요소가 없다라고 뜰 수도 있음!"
   ]
  },
  {
   "cell_type": "markdown",
   "id": "bd99ddf5-3391-45a0-8062-9657c63d4cb3",
   "metadata": {},
   "source": [
    "1. driver(컴퓨터 전용 브라우저)를 직접적으로 들여다봐서, 요소를 지정(find_ekements) - 동적\n",
    "2. "
   ]
  },
  {
   "cell_type": "code",
   "execution_count": 30,
   "id": "561b9e25-cac6-4f82-94c2-5f7a752ce389",
   "metadata": {},
   "outputs": [],
   "source": [
    "menu = driver.find_elements(By.CSS_SELECTOR ,\"div > div.item-text > h4\")\n",
    "price = driver.find_elements(By.CSS_SELECTOR ,\"div.item-text > div > strong\")"
   ]
  },
  {
   "cell_type": "code",
   "execution_count": 32,
   "id": "05e829f7-1d90-4184-9353-4595341a8fae",
   "metadata": {},
   "outputs": [
    {
     "data": {
      "text/plain": [
       "(112, 112)"
      ]
     },
     "execution_count": 32,
     "metadata": {},
     "output_type": "execute_result"
    }
   ],
   "source": [
    "len(menu),len(price)"
   ]
  },
  {
   "cell_type": "code",
   "execution_count": 33,
   "id": "0fda636a-55e3-479f-abc4-d711772c8ee3",
   "metadata": {},
   "outputs": [],
   "source": [
    "from bs4 import BeautifulSoup as bs"
   ]
  },
  {
   "cell_type": "code",
   "execution_count": 36,
   "id": "9223f180-615f-4f14-bbfa-7e05c374a876",
   "metadata": {},
   "outputs": [],
   "source": [
    "# 두번째 방법\n",
    "soup = bs(driver.page_source, \"lxml\")\n",
    "menu = soup.select(\"div > div.item-text > h4\")\n",
    "price = soup.select(\"div.item-text > div > strong\")"
   ]
  },
  {
   "cell_type": "code",
   "execution_count": 37,
   "id": "2c9cb334-4e98-4419-bbd3-d95b6c7eb24a",
   "metadata": {},
   "outputs": [],
   "source": [
    "driver.quit() # 자원반납"
   ]
  },
  {
   "cell_type": "markdown",
   "id": "db536d02-381d-4b16-9963-49caab5dd352",
   "metadata": {},
   "source": [
    "### 실습! 한솥메뉴 도시락 수집해서 저장하기!\n",
    "- 요청 하는 것부터 저장하는 것까지 하나의 셀로 만들어보기"
   ]
  },
  {
   "cell_type": "code",
   "execution_count": 61,
   "id": "42fd993d-abf2-46ba-8e49-027556e66480",
   "metadata": {},
   "outputs": [
    {
     "name": "stdout",
     "output_type": "stream",
     "text": [
      "더보기 버튼 클릭 완료!\n",
      "112\n",
      "112\n"
     ]
    },
    {
     "data": {
      "text/html": [
       "<div>\n",
       "<style scoped>\n",
       "    .dataframe tbody tr th:only-of-type {\n",
       "        vertical-align: middle;\n",
       "    }\n",
       "\n",
       "    .dataframe tbody tr th {\n",
       "        vertical-align: top;\n",
       "    }\n",
       "\n",
       "    .dataframe thead th {\n",
       "        text-align: right;\n",
       "    }\n",
       "</style>\n",
       "<table border=\"1\" class=\"dataframe\">\n",
       "  <thead>\n",
       "    <tr style=\"text-align: right;\">\n",
       "      <th></th>\n",
       "      <th>도시락</th>\n",
       "      <th>가격</th>\n",
       "    </tr>\n",
       "  </thead>\n",
       "  <tbody>\n",
       "    <tr>\n",
       "      <th>0</th>\n",
       "      <td>[행사] 진달래</td>\n",
       "      <td>6,600</td>\n",
       "    </tr>\n",
       "    <tr>\n",
       "      <th>1</th>\n",
       "      <td>[행사] 돈까스도련님 고기고기</td>\n",
       "      <td>5,500</td>\n",
       "    </tr>\n",
       "    <tr>\n",
       "      <th>2</th>\n",
       "      <td>[행사] 핫 치즈 닭갈비덮밥</td>\n",
       "      <td>4,900</td>\n",
       "    </tr>\n",
       "    <tr>\n",
       "      <th>3</th>\n",
       "      <td>[행사] 오리지널 치즈 닭갈비덮밥</td>\n",
       "      <td>4,900</td>\n",
       "    </tr>\n",
       "    <tr>\n",
       "      <th>4</th>\n",
       "      <td>[행사] 한우 함박스테이크&amp; 청양 토네이도 소세지</td>\n",
       "      <td>7,300</td>\n",
       "    </tr>\n",
       "    <tr>\n",
       "      <th>...</th>\n",
       "      <td>...</td>\n",
       "      <td>...</td>\n",
       "    </tr>\n",
       "    <tr>\n",
       "      <th>107</th>\n",
       "      <td>후라이드 순살(소)_케이준소스</td>\n",
       "      <td>4,000</td>\n",
       "    </tr>\n",
       "    <tr>\n",
       "      <th>108</th>\n",
       "      <td>후라이드 순살(중)</td>\n",
       "      <td>7,500</td>\n",
       "    </tr>\n",
       "    <tr>\n",
       "      <th>109</th>\n",
       "      <td>치킹 반반순살(양념, 후라이드)</td>\n",
       "      <td>16,900</td>\n",
       "    </tr>\n",
       "    <tr>\n",
       "      <th>110</th>\n",
       "      <td>치킹 반반순살(후라이드)</td>\n",
       "      <td>16,900</td>\n",
       "    </tr>\n",
       "    <tr>\n",
       "      <th>111</th>\n",
       "      <td>제주녹차 미니꿀호떡</td>\n",
       "      <td>2,500</td>\n",
       "    </tr>\n",
       "  </tbody>\n",
       "</table>\n",
       "<p>112 rows × 2 columns</p>\n",
       "</div>"
      ],
      "text/plain": [
       "                             도시락      가격\n",
       "0                       [행사] 진달래   6,600\n",
       "1               [행사] 돈까스도련님 고기고기   5,500\n",
       "2                [행사] 핫 치즈 닭갈비덮밥   4,900\n",
       "3             [행사] 오리지널 치즈 닭갈비덮밥   4,900\n",
       "4    [행사] 한우 함박스테이크& 청양 토네이도 소세지   7,300\n",
       "..                           ...     ...\n",
       "107             후라이드 순살(소)_케이준소스   4,000\n",
       "108                   후라이드 순살(중)   7,500\n",
       "109            치킹 반반순살(양념, 후라이드)  16,900\n",
       "110                치킹 반반순살(후라이드)  16,900\n",
       "111                   제주녹차 미니꿀호떡   2,500\n",
       "\n",
       "[112 rows x 2 columns]"
      ]
     },
     "execution_count": 61,
     "metadata": {},
     "output_type": "execute_result"
    }
   ],
   "source": [
    "driver = wb.Chrome()\n",
    "driver.get(\"https://www.hsd.co.kr/menu/menu_list\")\n",
    "time.sleep(2)\n",
    "\n",
    "\n",
    "while True :\n",
    "    try :\n",
    "        btn = driver.find_element(By.CSS_SELECTOR, \"#btn_more > span > a\")\n",
    "        btn.click()\n",
    "        time.sleep(2)\n",
    "    except :\n",
    "        print(\"더보기 버튼 클릭 완료!\")\n",
    "        break\n",
    "\n",
    "\n",
    "dosilacs = driver.find_elements(By.CSS_SELECTOR,\"li.item > div > div.item-text > h4\")\n",
    "prices = driver.find_elements(By.CSS_SELECTOR,\"li.item > div > div.item-text > div.item-price > strong\")\n",
    "# print(len(dosilacs))\n",
    "# print(len(prices))\n",
    "\n",
    "box1 = []\n",
    "box2 = []\n",
    "\n",
    "for i in range(len(dosilacs)):\n",
    "    box1.append(dosilacs[i].text)\n",
    "for i in range(len(prices)):\n",
    "    box2.append(prices[i].text)\n",
    "\n",
    "\n",
    "result = pd.DataFrame({\"도시락\" : box1, \"가격\" : box2})\n",
    "result"
   ]
  },
  {
   "cell_type": "code",
   "execution_count": null,
   "id": "d4f2ba9e-f628-4f55-a586-e867fb929683",
   "metadata": {},
   "outputs": [],
   "source": []
  },
  {
   "cell_type": "code",
   "execution_count": null,
   "id": "0dd6170d-b1df-422a-a248-6076e511fcf1",
   "metadata": {},
   "outputs": [],
   "source": []
  },
  {
   "cell_type": "code",
   "execution_count": null,
   "id": "ae263bc5-0ed2-4511-b27b-72c18a308aa1",
   "metadata": {},
   "outputs": [],
   "source": []
  }
 ],
 "metadata": {
  "kernelspec": {
   "display_name": "Python 3 (ipykernel)",
   "language": "python",
   "name": "python3"
  },
  "language_info": {
   "codemirror_mode": {
    "name": "ipython",
    "version": 3
   },
   "file_extension": ".py",
   "mimetype": "text/x-python",
   "name": "python",
   "nbconvert_exporter": "python",
   "pygments_lexer": "ipython3",
   "version": "3.12.7"
  }
 },
 "nbformat": 4,
 "nbformat_minor": 5
}
