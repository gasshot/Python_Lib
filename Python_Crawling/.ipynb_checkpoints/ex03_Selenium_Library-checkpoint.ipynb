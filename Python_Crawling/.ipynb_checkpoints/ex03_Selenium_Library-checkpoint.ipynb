{
 "cells": [
  {
   "cell_type": "markdown",
   "id": "7ea11729-7de2-4dfb-8731-0e9b296d5ddc",
   "metadata": {},
   "source": [
    "### Selenium Library\n",
    "- 브라우저의 동작(스크롤 하강, 클릭 등)을 제어할 수 있는 라이브러리\n",
    "- 동적인 컨텐츠(ex.네이버 뉴스, 유튜브 댓글, 쇼핑 페이징 등)을 수집할 때 활용"
   ]
  },
  {
   "cell_type": "code",
   "execution_count": 4,
   "id": "0b351eed-acad-4966-bd41-04af0526ceea",
   "metadata": {},
   "outputs": [],
   "source": [
    "# !pip install selenium\n",
    "\n",
    "# 셀레니움 라이브러리 설치"
   ]
  },
  {
   "cell_type": "code",
   "execution_count": 3,
   "id": "d1c30d3a-39a6-4ad2-9776-c5f96f7c48a3",
   "metadata": {},
   "outputs": [],
   "source": [
    "# 필요한 도구를 불러오기\n",
    "from selenium import webdriver as wb # 컴퓨터 전용 브라우저를 실행, 관리 할 수 있는 도구\n",
    "from selenium.webdriver.common.by import By # 요소 지정 방식을 제공하는 도구\n",
    "from selenium.webdriver.common.keys import Keys # 키보드 입력을 제공하는 도구"
   ]
  },
  {
   "cell_type": "code",
   "execution_count": 5,
   "id": "28cea1b2-2495-4787-8efe-2ac20aea5888",
   "metadata": {},
   "outputs": [],
   "source": [
    "# 컴퓨터 전용 브랑우저\n",
    "driver = wb.Chrome()"
   ]
  },
  {
   "cell_type": "code",
   "execution_count": 18,
   "id": "e5878f44-5c2d-4307-95c3-57557d81a690",
   "metadata": {},
   "outputs": [],
   "source": [
    "# url로 요청보내기\n",
    "driver.get(\"https://www.naver.com\")"
   ]
  },
  {
   "cell_type": "code",
   "execution_count": 19,
   "id": "04d96e8a-9f1e-459c-9c9e-79caa2a9422d",
   "metadata": {},
   "outputs": [],
   "source": [
    "# 검색란 찾기 -> 검색어를 입력 받는 요소를 지정\n",
    "search = driver.find_element(By.ID , \"query\")\n",
    "\n",
    "# select() : 다중요소를 가져올 때 사용 되던 bs 도구\n",
    "# select_one() : 단일요소를 가져올 때 사용 되던 bs 도구\n",
    "\n",
    "# find_elements() : 다중요소를 가져올 때 사용 되던 selenium 함수\n",
    "# find_element() : 단중요소를 가져올 때 사용 되던 selenium 함수"
   ]
  },
  {
   "cell_type": "code",
   "execution_count": 20,
   "id": "7afb8b29-c00c-4560-980c-d412154e2d4b",
   "metadata": {},
   "outputs": [],
   "source": [
    "# 검색어 입력\n",
    "search.send_keys(\"오징어게임 시즌2\")"
   ]
  },
  {
   "cell_type": "code",
   "execution_count": 21,
   "id": "a9bc54b6-e62f-4b3e-bad9-f3abeb07da5b",
   "metadata": {},
   "outputs": [],
   "source": [
    "# 검색어를 가지고 요청\n",
    "search.send_keys(Keys.ENTER)"
   ]
  },
  {
   "cell_type": "code",
   "execution_count": 22,
   "id": "81bdb2f4-9565-4230-b3b2-b3b3264868fe",
   "metadata": {},
   "outputs": [],
   "source": [
    "# 뒤로가기!\n",
    "driver.back()"
   ]
  },
  {
   "cell_type": "code",
   "execution_count": 23,
   "id": "40b83639-1847-47a1-ad25-30bda0757208",
   "metadata": {},
   "outputs": [],
   "source": [
    "# 리다이렉트 (페이지 전환, 새로고침)가 진행된 경우, 새롭게 요소를 지정해주어야 함!\n",
    "search = driver.find_element(By.ID, \"query\")"
   ]
  },
  {
   "cell_type": "code",
   "execution_count": 24,
   "id": "538c5a6d-621f-4a3f-bc08-cf215c11542d",
   "metadata": {},
   "outputs": [],
   "source": [
    "search.send_keys(\"오징어게임 시즌2\")"
   ]
  },
  {
   "cell_type": "code",
   "execution_count": 26,
   "id": "1aea5937-b929-4f07-9f3c-3728fb78c4a7",
   "metadata": {},
   "outputs": [],
   "source": [
    "btn = driver.find_element(By.ID, \"search-btn\")\n",
    "\n",
    "btn.click()"
   ]
  },
  {
   "cell_type": "code",
   "execution_count": 27,
   "id": "d7c7a4bc-9646-458e-b7a1-7dfdf482f723",
   "metadata": {},
   "outputs": [],
   "source": [
    "# 종료\n",
    "\n",
    "driver.quit()"
   ]
  },
  {
   "cell_type": "code",
   "execution_count": null,
   "id": "9f883e29-5126-4703-ac64-5a2e657e46d5",
   "metadata": {},
   "outputs": [],
   "source": [
    "# 실제 사람이 취하는 액션"
   ]
  }
 ],
 "metadata": {
  "kernelspec": {
   "display_name": "Python 3 (ipykernel)",
   "language": "python",
   "name": "python3"
  },
  "language_info": {
   "codemirror_mode": {
    "name": "ipython",
    "version": 3
   },
   "file_extension": ".py",
   "mimetype": "text/x-python",
   "name": "python",
   "nbconvert_exporter": "python",
   "pygments_lexer": "ipython3",
   "version": "3.12.7"
  }
 },
 "nbformat": 4,
 "nbformat_minor": 5
}
