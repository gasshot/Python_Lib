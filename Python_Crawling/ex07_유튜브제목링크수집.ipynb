{
 "cells": [
  {
   "cell_type": "markdown",
   "id": "c1f59d59-43b2-408b-b4c5-7e8f9eae78d5",
   "metadata": {},
   "source": [
    "### 유튜브 제목, 링크 수집 실습\n",
    "- 데이터 수집 후에 df화 하기\n",
    "- schedule을 통한 자동화"
   ]
  },
  {
   "cell_type": "code",
   "execution_count": null,
   "id": "4ef75f0f-23d1-484c-bc77-fc9c55019b57",
   "metadata": {},
   "outputs": [],
   "source": [
    "# 데이터 수립(크롤링) 라이브러리\n",
    "# Requests : 브라우저의 역할\n",
    "# bs4 : 문자열로 된 html 코드를 html 문서로 변환\n",
    "# html 문서를 사용하는 이유 : 위치를 찾을 수 있는 방법 = tag(ex> div, h, img, a)\n",
    "# bs라이블러리에서 태그를 찾는 방법 : soup.select()\n",
    "# selenium \n",
    "\n",
    "# 브라우저의 역할 : webdriver\n",
    "# 태그 찾는 방법 :  driver.find_elements(선택자 지정방식, '선택자')"
   ]
  },
  {
   "cell_type": "code",
   "execution_count": 1,
   "id": "99c11eae-9652-4b4a-af1e-42f07852b371",
   "metadata": {},
   "outputs": [],
   "source": [
    "# 크롤링 라이브러리(Selenium)\n",
    "from selenium import webdriver as wb # 컴퓨터용 브라우저\n",
    "from selenium.webdriver.common.by import By # Selenium 라이브러리에서 웹 요소\n",
    "from selenium.webdriver.common.keys import Keys # 키보드 이벤트를 시뮬레이션\n",
    "\n",
    "import time\n",
    "\n",
    "from tqdm import tqdm # 반복문 진행 현황 출력하는 도구"
   ]
  },
  {
   "cell_type": "code",
   "execution_count": 7,
   "id": "6c05d12f-5114-4c7b-9805-8bd0bc53cced",
   "metadata": {},
   "outputs": [],
   "source": [
    "driver = wb.Chrome()\n",
    "\n",
    "driver.get('https://www.youtube.com/')\n",
    "\n",
    "driver.maximize_window()"
   ]
  },
  {
   "cell_type": "code",
   "execution_count": 8,
   "id": "8c59b7cb-67ce-473f-9805-134366d0a711",
   "metadata": {},
   "outputs": [],
   "source": [
    "search = driver.find_element(By.CSS_SELECTOR,'#center > yt-searchbox > div.ytSearchboxComponentInputBox > form > input')"
   ]
  },
  {
   "cell_type": "code",
   "execution_count": 9,
   "id": "b00b5823-5d39-4e7d-a508-6776428ae338",
   "metadata": {
    "scrolled": true
   },
   "outputs": [
    {
     "name": "stdin",
     "output_type": "stream",
     "text": [
      "검색어 >> 사나고\n"
     ]
    }
   ],
   "source": [
    "query = input('검색어 >>')\n",
    "search.send_keys(query +'\\n')"
   ]
  },
  {
   "cell_type": "code",
   "execution_count": 19,
   "id": "fc634f11-ec97-4764-8759-32bf0232ff04",
   "metadata": {},
   "outputs": [
    {
     "name": "stdout",
     "output_type": "stream",
     "text": [
      "차 안에 엉뚱한 것 만들기\n",
      "3D펜으로 아케인 징크스 무기 만들기\n",
      "1/10 크기로 마인크래프트 만들기\n",
      "3D펜으로 번개맞는 뚱이 만들기\n",
      "누가 요즘 이걸 돈주고 삽니까\n",
      "30년 된 캐릭터를 만드는 31살 장인\n",
      "[아반떼 x 사나고] Dare to DIY\n",
      "아동 피규어 확대하기\n",
      "3D펜으로 권총 만들기\n",
      "3D펜으로 나고 만들기\n",
      "울버린 클로 만들어서 오이 베기\n",
      "전설의 활 만들기\n",
      "마.마잌.마.마이크 만들기\n",
      "3D펜으로 배 만들기\n",
      "3D펜으로 단검 만들어서 오이베기\n",
      "[HNBS] 한남대학교 학부생 최초 육군대장 진급!! l 회계학과 85학번 신희현동문 인터뷰\n",
      "전교조 대전지부, 설동호 교육감 장례위원 철회 촉구/대전MBC\n",
      "브루니로 콜드브루 만들기\n",
      "3D펜으로 꼬부기 피규어 만들기\n",
      "수..리 해준다며\n",
      "3D펜으로 스파이더맨 만들기\n",
      "수제 포르쉐 만들기\n"
     ]
    }
   ],
   "source": [
    "titles = driver.find_elements(By.CSS_SELECTOR,'#video-title > yt-formatted-string')\n",
    "for title in titles:\n",
    "    print(title.text)"
   ]
  },
  {
   "cell_type": "code",
   "execution_count": 28,
   "id": "bec07b88-bdbb-4fe4-b640-2b57396f7396",
   "metadata": {},
   "outputs": [
    {
     "name": "stdout",
     "output_type": "stream",
     "text": [
      "22\n",
      "https://www.youtube.com/watch?v=JeOndP1vNxA&pp=ygUJ7IKs64KY6rOg\n",
      "https://www.youtube.com/watch?v=OevV8_TPbq0&pp=ygUJ7IKs64KY6rOg\n",
      "https://www.youtube.com/watch?v=sV6SiHEmWm4&pp=ygUJ7IKs64KY6rOg\n",
      "https://www.youtube.com/watch?v=Gdw-v30-F-o&pp=ygUJ7IKs64KY6rOg\n",
      "https://www.youtube.com/watch?v=EVWcGUWSzGs&pp=ygUJ7IKs64KY6rOg\n",
      "https://www.youtube.com/watch?v=xsSJwCkh6po&pp=ygUJ7IKs64KY6rOg\n",
      "https://www.youtube.com/watch?v=8x0Qe5qdCHs&pp=ygUJ7IKs64KY6rOg\n",
      "https://www.youtube.com/watch?v=vEIjQYiiOvM&pp=ygUJ7IKs64KY6rOg\n",
      "https://www.youtube.com/watch?v=RPt0sWk2u1M&pp=ygUJ7IKs64KY6rOg\n",
      "https://www.youtube.com/watch?v=T9DyWNKogtw&pp=ygUJ7IKs64KY6rOg\n",
      "https://www.youtube.com/watch?v=xo_6_aZMwuE&pp=ygUJ7IKs64KY6rOg\n",
      "https://www.youtube.com/watch?v=nUM8JMDS9JY&pp=ygUJ7IKs64KY6rOg\n",
      "https://www.youtube.com/watch?v=-LKeHx9kj-4&pp=ygUJ7IKs64KY6rOg\n",
      "https://www.youtube.com/watch?v=fdAEsnuE4RU&pp=ygUJ7IKs64KY6rOg\n",
      "https://www.youtube.com/watch?v=Ui7fJm7pToA&pp=ygUJ7IKs64KY6rOg\n",
      "https://www.youtube.com/watch?v=64vcmpF2_uU&pp=ygUJ7IKs64KY6rOg\n",
      "https://www.youtube.com/watch?v=ApgMQYkUy0Y&pp=ygUJ7IKs64KY6rOg\n",
      "https://www.youtube.com/watch?v=QnPDnrzGc34&pp=ygUJ7IKs64KY6rOg\n",
      "https://www.youtube.com/watch?v=Ne1wAVhKnZA&pp=ygUJ7IKs64KY6rOg\n",
      "https://www.youtube.com/watch?v=3ZICb02Ukg8&pp=ygUJ7IKs64KY6rOg\n",
      "https://www.youtube.com/watch?v=kEPb6EMIqK4&pp=ygUJ7IKs64KY6rOg\n",
      "https://www.youtube.com/watch?v=3Ovnw0VYOb8&pp=ygUJ7IKs64KY6rOg\n"
     ]
    }
   ],
   "source": [
    "urls = driver.find_elements(By.CSS_SELECTOR,'a#video-title')\n",
    "\n",
    "print(len(urls))\n",
    "for url in urls:\n",
    "    print(url.get_attribute('href'))"
   ]
  },
  {
   "cell_type": "code",
   "execution_count": 30,
   "id": "a45d43e3-62ca-4e0d-ae2c-d73a889d96ab",
   "metadata": {},
   "outputs": [],
   "source": [
    "driver.quit()"
   ]
  },
  {
   "cell_type": "code",
   "execution_count": null,
   "id": "2f4c18ca-2eb4-4a05-8120-f7385aca4da6",
   "metadata": {},
   "outputs": [],
   "source": [
    "while True : \n",
    "    old = driver.page_source\n",
    "    \n",
    "    body = driver.find_element(By.CSS_SELECTOR, \"#_pcmap_list_scroll_container\")\n",
    "    body.send_keys(Keys.END)\n",
    "    # 스크롤을 가지고 있는 요소에 접근해서 send_keys 수행!\n",
    "    time.sleep(1.5)\n",
    "\n",
    "    new = driver.page_source\n",
    "\n",
    "    if old == new : # 기존의 텍스트와 스크롤 내린 후 텍스트가 같은가?\n",
    "        print(\"스크롤 하강 완료!\")\n",
    "        break\n",
    "    else : # 그렇지 않으면, 다음 반복 로직 수행!\n",
    "        pass"
   ]
  },
  {
   "cell_type": "code",
   "execution_count": null,
   "id": "5ca51978-7eb2-4877-b33a-3650ebd0776f",
   "metadata": {},
   "outputs": [],
   "source": [
    "# 코드 통합\n",
    "def youtube_comment():\n",
    "    driver = wb.Chrome()\n",
    "    driver.get('https://www.youtube.com/watch?v=3ERvMGZDrHE')\n",
    "    time.sleep(2) # 페이지 로딩 시간\n",
    "    \n",
    "    # 스크롤 다운 하기 전에 창 최대화\n",
    "    driver.maximize_window()\n",
    "    time.sleep(1)\n",
    "    body = driver.find_element(By.TAG_NAME, 'body')\n",
    "    body.send_keys(Keys.END)\n",
    "    time.sleep(2)\n",
    "    \n",
    "    # id 수집\n",
    "    ids = driver.find_elements(By.CSS_SELECTOR, '#author-text > span')\n",
    "    # 댓글 수집\n",
    "    texts = driver.find_elements(By.CSS_SELECTOR, '#content-text > span')\n",
    "    \n",
    "    id_lst = []\n",
    "    text_lst = []\n",
    "    \n",
    "    for id1 in ids:\n",
    "        id_lst.append(id1.text)\n",
    "    \n",
    "    for text in texts:\n",
    "        text_lst.append(text.text)\n",
    "    \n",
    "    df = pd.DataFrame({'id' : id_lst, '댓글' : text_lst})\n",
    "    return df"
   ]
  }
 ],
 "metadata": {
  "kernelspec": {
   "display_name": "Python 3 (ipykernel)",
   "language": "python",
   "name": "python3"
  },
  "language_info": {
   "codemirror_mode": {
    "name": "ipython",
    "version": 3
   },
   "file_extension": ".py",
   "mimetype": "text/x-python",
   "name": "python",
   "nbconvert_exporter": "python",
   "pygments_lexer": "ipython3",
   "version": "3.12.7"
  }
 },
 "nbformat": 4,
 "nbformat_minor": 5
}
