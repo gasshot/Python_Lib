{
 "cells": [
  {
   "cell_type": "code",
   "execution_count": 50,
   "id": "27ff5f17-f5be-415b-a678-dc2bdee799fe",
   "metadata": {},
   "outputs": [
    {
     "name": "stdout",
     "output_type": "stream",
     "text": [
      "Collecting schedule\n",
      "  Downloading schedule-1.2.2-py3-none-any.whl.metadata (3.8 kB)\n",
      "Downloading schedule-1.2.2-py3-none-any.whl (12 kB)\n",
      "Installing collected packages: schedule\n",
      "Successfully installed schedule-1.2.2\n"
     ]
    }
   ],
   "source": [
    "#https://www.youtube.com/watch?v=e_YVzqEiA0U\n",
    "!pip install schedule"
   ]
  },
  {
   "cell_type": "code",
   "execution_count": 52,
   "id": "1473a100-8229-463a-b156-9abd6a2ccf2e",
   "metadata": {},
   "outputs": [],
   "source": [
    "# 크롤링 라이브러리(Selenium)\n",
    "from selenium import webdriver as wb # 컴퓨터용 브라우저\n",
    "from selenium.webdriver.common.by import By # Selenium 라이브러리에서 웹 요소\n",
    "from selenium.webdriver.common.keys import Keys # 키보드 이벤트를 시뮬레이션\n",
    "\n",
    "import time\n",
    "import pandas as pd\n",
    "from tqdm import tqdm # 반복문 진행 현황 출력하는 도구\n",
    "\n",
    "# schedule 라이브러리 활용한 자동화\n",
    "import schedule"
   ]
  },
  {
   "cell_type": "code",
   "execution_count": 56,
   "id": "258deb3e-5ca2-4ff7-abba-925952537779",
   "metadata": {},
   "outputs": [],
   "source": [
    "def youtube_comment():\n",
    "    driver = wb.Chrome()\n",
    "    driver.get('https://www.youtube.com/watch?v=e_YVzqEiA0U')\n",
    "    time.sleep(1)\n",
    "    driver.maximize_window()\n",
    "\n",
    "    check1 = driver.find_elements(By.CSS_SELECTOR,'#author-text > span')\n",
    "    check2 = driver.find_elements(By.CSS_SELECTOR,'#content-text > span')\n",
    "    check3 = driver.find_elements(By.CSS_SELECTOR,'#vote-count-middle')\n",
    "    check4 = driver.find_elements(By.CSS_SELECTOR,'#comment > div#body > div#author-thumbnail > a > yt-img-shadow > #img')\n",
    "\n",
    "    final = {'유저명':[],'댓글':[], '좋아요':[],'프로필사진(src)':[]}\n",
    "\n",
    "    #len(check4)\n",
    "\n",
    "    for i in range(len(check1)):\n",
    "    \n",
    "        final['유저명'].append(check1[i].text)\n",
    "        final['댓글'].append(check2[i].text)\n",
    "        final['좋아요'].append(check3[i].text)\n",
    "        final['프로필사진(src)'].append(check4[i].get_attribute('src'))\n",
    "        #print(check4[i].get_attribute('src'))\n",
    "    \n",
    "    result = pd.DataFrame(final)\n",
    "    driver.quit()\n",
    "    return print(result)"
   ]
  },
  {
   "cell_type": "code",
   "execution_count": 57,
   "id": "418516b3-5ee5-47c4-9866-851a22045c98",
   "metadata": {},
   "outputs": [
    {
     "data": {
      "text/plain": [
       "Every 60 seconds do youtube_comment() (last run: [never], next run: 2025-01-07 17:44:39)"
      ]
     },
     "execution_count": 57,
     "metadata": {},
     "output_type": "execute_result"
    }
   ],
   "source": [
    "# 스케줄 설정\n",
    "schedule.every(60).seconds.do(youtube_comment)"
   ]
  },
  {
   "cell_type": "code",
   "execution_count": 58,
   "id": "8d25df89-b7f7-474d-9d56-8fb5008f4ea6",
   "metadata": {},
   "outputs": [
    {
     "name": "stdout",
     "output_type": "stream",
     "text": [
      "Empty DataFrame\n",
      "Columns: [유저명, 댓글, 좋아요, 프로필사진(src)]\n",
      "Index: []\n"
     ]
    },
    {
     "ename": "KeyboardInterrupt",
     "evalue": "",
     "output_type": "error",
     "traceback": [
      "\u001b[1;31m---------------------------------------------------------------------------\u001b[0m",
      "\u001b[1;31mKeyboardInterrupt\u001b[0m                         Traceback (most recent call last)",
      "Cell \u001b[1;32mIn[58], line 3\u001b[0m\n\u001b[0;32m      1\u001b[0m \u001b[38;5;28;01mwhile\u001b[39;00m \u001b[38;5;28;01mTrue\u001b[39;00m :\n\u001b[0;32m      2\u001b[0m     schedule\u001b[38;5;241m.\u001b[39mrun_pending()\n\u001b[1;32m----> 3\u001b[0m     time\u001b[38;5;241m.\u001b[39msleep(\u001b[38;5;241m10\u001b[39m)\n",
      "\u001b[1;31mKeyboardInterrupt\u001b[0m: "
     ]
    }
   ],
   "source": [
    "while True :\n",
    "    schedule.run_pending()\n",
    "    time.sleep(10)"
   ]
  }
 ],
 "metadata": {
  "kernelspec": {
   "display_name": "Python 3 (ipykernel)",
   "language": "python",
   "name": "python3"
  },
  "language_info": {
   "codemirror_mode": {
    "name": "ipython",
    "version": 3
   },
   "file_extension": ".py",
   "mimetype": "text/x-python",
   "name": "python",
   "nbconvert_exporter": "python",
   "pygments_lexer": "ipython3",
   "version": "3.12.7"
  }
 },
 "nbformat": 4,
 "nbformat_minor": 5
}
