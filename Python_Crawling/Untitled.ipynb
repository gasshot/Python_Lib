{
 "cells": [
  {
   "cell_type": "markdown",
   "id": "86e9df66-4a9f-404c-88e5-79820928591f",
   "metadata": {},
   "source": [
    "### 포켓몬 페이지에서 이미지 데이터 수집\n",
    "- 폴더(디렉토리)생성\n",
    "- 이미지 수집(링크)후, 링크를 기반으로 다운로드 자동화"
   ]
  },
  {
   "cell_type": "code",
   "execution_count": 2,
   "id": "fa822490-4e43-4f03-bd1d-a71f342459cc",
   "metadata": {},
   "outputs": [],
   "source": [
    "# 운영체제를 다룰 수 있는 라이브러리\n",
    "import os # 폴더 생성, 파일 삭제 등 운영체제에 접근해서 관리 할 수 있는 라이브러리\n",
    "\n",
    "# 크롤링 라이브러리(Selenium)\n",
    "from selenium import webdriver as wb # 컴퓨터용 브라우저\n",
    "from selenium.webdriver.common.by import By # 컴퓨터용 브라우저\n",
    "from selenium.webdriver.common.keys import Keys # 컴퓨터용 브라우저"
   ]
  },
  {
   "cell_type": "code",
   "execution_count": 4,
   "id": "2fe5d64e-9ac5-4936-a466-e44642d61f7f",
   "metadata": {},
   "outputs": [
    {
     "data": {
      "text/plain": [
       "'C:\\\\Users\\\\smhrd\\\\Python\\\\Python_Crawling'"
      ]
     },
     "execution_count": 4,
     "metadata": {},
     "output_type": "execute_result"
    }
   ],
   "source": [
    "# 현재 경로 확인\n",
    "os.getcwd()"
   ]
  },
  {
   "cell_type": "code",
   "execution_count": 9,
   "id": "c37a4799-d817-4222-8837-536633a26dd1",
   "metadata": {},
   "outputs": [
    {
     "name": "stdout",
     "output_type": "stream",
     "text": [
      "이미 존재합니다.\n"
     ]
    }
   ],
   "source": [
    "# 폴더 생성해보기\n",
    "\n",
    "try:\n",
    "    os.mkdir('C:/Users/smhrd/Desktop/포켓몬')\n",
    "except:\n",
    "    print(\"이미 존재합니다.\")\n",
    "# 이미 생성이 된 경우, 중복된 폴더명으로 생성할 수 없음!"
   ]
  },
  {
   "cell_type": "code",
   "execution_count": 12,
   "id": "4393e83a-bbe0-49d5-a0f2-ff40f2bb9939",
   "metadata": {},
   "outputs": [
    {
     "data": {
      "text/plain": [
       "True"
      ]
     },
     "execution_count": 12,
     "metadata": {},
     "output_type": "execute_result"
    }
   ],
   "source": [
    "# 예외 처리를 위한 해당 경로에 폴더가 있는지 확인하기\n",
    "os.path.isdir('C:/Users/smhrd/Desktop/포켓몬')\n",
    "#True : 폴더가 있는 상태 / False : 폴더가 없는 상태"
   ]
  },
  {
   "cell_type": "code",
   "execution_count": 16,
   "id": "c6042024-217b-425c-92ff-ebc905e6c3d2",
   "metadata": {},
   "outputs": [
    {
     "name": "stdin",
     "output_type": "stream",
     "text": [
      "폴더명을 입력하세요 >> 포켓몬\n"
     ]
    },
    {
     "name": "stdout",
     "output_type": "stream",
     "text": [
      "다른 이름으로 생성해주세요.\n"
     ]
    }
   ],
   "source": [
    "name = input(\"폴더명을 입력하세요 >>\")\n",
    "\n",
    "\n",
    "url = f'C:/Users/smhrd/Desktop/{name}'\n",
    "check = os.path.isdir(url)\n",
    "\n",
    "if(check == False):\n",
    "    os.mkdir(url)\n",
    "else:\n",
    "    print(\"다른 이름으로 생성해주세요.\")\n",
    "    "
   ]
  },
  {
   "cell_type": "code",
   "execution_count": 18,
   "id": "910e4fd0-97d3-4b1b-883c-f89e868c5e51",
   "metadata": {},
   "outputs": [],
   "source": [
    "# 컴퓨터용 브라우저 실행\n",
    "\n",
    "driver = wb.Chrome()\n",
    "\n",
    "driver.get('https://www.pokemonkorea.co.kr/pokedex#pokedex_1')"
   ]
  },
  {
   "cell_type": "code",
   "execution_count": 27,
   "id": "56fabbc3-839d-4499-9375-7ffee3e4d76a",
   "metadata": {},
   "outputs": [
    {
     "name": "stdout",
     "output_type": "stream",
     "text": [
      "450\n"
     ]
    }
   ],
   "source": [
    "imgBox = driver.find_elements(By.CSS_SELECTOR, 'img.img-fluid')\n",
    "#\\#pokedex_1 > a > div.img > div > img\n",
    "print(len(imgBox))\n",
    "#print(imgBox[0].get_attribute('src'))\n",
    "\n",
    "# 이미지 태그에 src 요소가 실제 이미지!\n",
    "# get_attribute('src')\n"
   ]
  },
  {
   "cell_type": "code",
   "execution_count": 31,
   "id": "5829c1b4-59b3-41b1-a17e-1801e50af893",
   "metadata": {},
   "outputs": [
    {
     "name": "stdout",
     "output_type": "stream",
     "text": [
      "31866\n"
     ]
    }
   ],
   "source": [
    "# 스크롤 내리기 추가!\n",
    "# 한솥 도시락 데이터 수집 실습에서는 횟수가 제한(더보기 버튼 개수가 제한)\n",
    "# 여기서는 ? 페이지 길이 가져오기\n",
    "\n",
    "print(driver.execute_script('return document.body.scrollHeight')) # 스크롤 길이 확인\n",
    "\n",
    "# 창이 작으면 스크롤 해야할 페이지가 길어지니까 숫자가 더 큼"
   ]
  }
 ],
 "metadata": {
  "kernelspec": {
   "display_name": "Python 3 (ipykernel)",
   "language": "python",
   "name": "python3"
  },
  "language_info": {
   "codemirror_mode": {
    "name": "ipython",
    "version": 3
   },
   "file_extension": ".py",
   "mimetype": "text/x-python",
   "name": "python",
   "nbconvert_exporter": "python",
   "pygments_lexer": "ipython3",
   "version": "3.12.7"
  }
 },
 "nbformat": 4,
 "nbformat_minor": 5
}
