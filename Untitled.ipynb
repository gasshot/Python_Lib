{
 "cells": [
  {
   "cell_type": "code",
   "execution_count": null,
   "id": "9c9efbd3-925c-4511-af0a-68ebb226b597",
   "metadata": {},
   "outputs": [],
   "source": []
  }
 ],
 "metadata": {
  "kernelspec": {
   "display_name": "",
   "name": ""
  },
  "language_info": {
   "name": ""
  }
 },
 "nbformat": 4,
 "nbformat_minor": 5
}
