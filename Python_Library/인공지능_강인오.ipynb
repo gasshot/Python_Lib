{
 "cells": [
  {
   "cell_type": "code",
   "execution_count": 1,
   "id": "ea99ca61-ff3f-453a-917d-df66fd181b2d",
   "metadata": {},
   "outputs": [],
   "source": [
    "import numpy as np\n",
    "import pandas as pd\n",
    "import matplotlib.pyplot as plt\n",
    "\n",
    "plt.rcParams['font.family'] ='Malgun Gothic'\n",
    "plt.rcParams['axes.unicode_minus'] =False"
   ]
  },
  {
   "cell_type": "markdown",
   "id": "85c83db5-6a95-4543-b16c-1a41e75eff91",
   "metadata": {},
   "source": [
    "# 문제1"
   ]
  },
  {
   "cell_type": "code",
   "execution_count": 2,
   "id": "091d5b01-4861-4791-bd2a-e3f5c6db3766",
   "metadata": {},
   "outputs": [],
   "source": [
    "# 문제1)\n",
    "\n",
    "\n",
    "# 1 : 선 그래프 (line chart)\n",
    "\n",
    "# 2 : plot(x,y)\n"
   ]
  },
  {
   "cell_type": "markdown",
   "id": "702e3d41-149c-445a-92d2-7a68910596ca",
   "metadata": {},
   "source": [
    "# 문제2"
   ]
  },
  {
   "cell_type": "code",
   "execution_count": 3,
   "id": "c558c24a-5b6f-4606-aa0b-9c7d10784406",
   "metadata": {},
   "outputs": [
    {
     "data": {
      "image/png": "[encoded data removed]",
      "text/plain": [
       "<Figure size 640x480 with 1 Axes>"
      ]
     },
     "metadata": {},
     "output_type": "display_data"
    }
   ],
   "source": [
    "# 문제2 \n",
    "\n",
    "# 1) 이 차트의 명칭을 작성하시오.\n",
    "    # 정답 : 막대 그래프(bar chart)\n",
    "# 2)  이 차트를 matplotlib.pyplot 라이브러리를 사용하여 시각화하기 위해서 어떤 함수를 사용하는지 작성하시오. \n",
    "    # 정답 : plt.bar()\n",
    "y = [150,400,900]\n",
    "x = [0,1,2]\n",
    "plt.bar(x,y)\n",
    "plt.show()\n",
    "\n"
   ]
  },
  {
   "cell_type": "markdown",
   "id": "2d42aa79-3064-49f9-b8df-1c40a47320e3",
   "metadata": {},
   "source": [
    "# 문제3"
   ]
  },
  {
   "cell_type": "code",
   "execution_count": 4,
   "id": "6e1e4abc-3076-4f85-bbbd-be6edb11d0ec",
   "metadata": {},
   "outputs": [
    {
     "name": "stdout",
     "output_type": "stream",
     "text": [
      "3의 배수 : 2개, 4의 배수 : 3개, 그 외 : 2개\n"
     ]
    }
   ],
   "source": [
    "# 문제3 \n",
    "# 아래와 같이 리스트를 만들고 요소의 3의 배수, 4의 배수, 그 외를 구분하여 개수를 세는 프로그램을 작성하시오\n",
    "# 정답 : \n",
    "list1 = [3,62,15,20,44,55,32]\n",
    "\n",
    "dic = {'3의 배수':[],'4의 배수':[],'그 외':[]}\n",
    "\n",
    "for item in list1:\n",
    "    if(item % 3 == 0):\n",
    "        dic['3의 배수'].append(item)\n",
    "    elif(item % 4 == 0):\n",
    "        dic['4의 배수'].append(item)\n",
    "    else:\n",
    "        dic['그 외'].append(item)\n",
    "    \n",
    "\n",
    "print(f'3의 배수 : {len(dic['3의 배수'])}개, 4의 배수 : {len(dic['4의 배수'])}개, 그 외 : {len(dic['그 외'])}개')\n",
    "\n"
   ]
  },
  {
   "cell_type": "markdown",
   "id": "9ae232a6-a86b-40b2-adbb-e88253d1202a",
   "metadata": {},
   "source": [
    "# 문제4"
   ]
  },
  {
   "cell_type": "code",
   "execution_count": 18,
   "id": "ad02b140-d30d-4b64-9d20-d0c9778295c3",
   "metadata": {},
   "outputs": [
    {
     "name": "stdout",
     "output_type": "stream",
     "text": [
      "[[89, 78, 99, 88, 'B'], [67, 88, 77, 77, 'C'], [100, 55, 96, 83, 'B']]\n"
     ]
    },
    {
     "data": {
      "text/html": [
       "<div>\n",
       "<style scoped>\n",
       "    .dataframe tbody tr th:only-of-type {\n",
       "        vertical-align: middle;\n",
       "    }\n",
       "\n",
       "    .dataframe tbody tr th {\n",
       "        vertical-align: top;\n",
       "    }\n",
       "\n",
       "    .dataframe thead th {\n",
       "        text-align: right;\n",
       "    }\n",
       "</style>\n",
       "<table border=\"1\" class=\"dataframe\">\n",
       "  <thead>\n",
       "    <tr style=\"text-align: right;\">\n",
       "      <th></th>\n",
       "      <th>Python</th>\n",
       "      <th>Java</th>\n",
       "      <th>DB</th>\n",
       "      <th>평균</th>\n",
       "      <th>학점</th>\n",
       "    </tr>\n",
       "  </thead>\n",
       "  <tbody>\n",
       "    <tr>\n",
       "      <th>김미희</th>\n",
       "      <td>89</td>\n",
       "      <td>78</td>\n",
       "      <td>99</td>\n",
       "      <td>88</td>\n",
       "      <td>B</td>\n",
       "    </tr>\n",
       "    <tr>\n",
       "      <th>서대희</th>\n",
       "      <td>67</td>\n",
       "      <td>88</td>\n",
       "      <td>77</td>\n",
       "      <td>77</td>\n",
       "      <td>C</td>\n",
       "    </tr>\n",
       "    <tr>\n",
       "      <th>강예진</th>\n",
       "      <td>100</td>\n",
       "      <td>55</td>\n",
       "      <td>96</td>\n",
       "      <td>83</td>\n",
       "      <td>B</td>\n",
       "    </tr>\n",
       "  </tbody>\n",
       "</table>\n",
       "</div>"
      ],
      "text/plain": [
       "     Python  Java  DB  평균 학점\n",
       "김미희      89    78  99  88  B\n",
       "서대희      67    88  77  77  C\n",
       "강예진     100    55  96  83  B"
      ]
     },
     "execution_count": 18,
     "metadata": {},
     "output_type": "execute_result"
    }
   ],
   "source": [
    "# 문제4 \n",
    "\n",
    "def grade(income):\n",
    "    if(income>= 90):\n",
    "        return 'A'\n",
    "    elif(income>= 80):\n",
    "        return 'B'\n",
    "    elif(income>= 70):\n",
    "        return 'C'\n",
    "    elif(income>= 60):\n",
    "        return 'D'\n",
    "    else:\n",
    "        return 'F'\n",
    "\n",
    "score_list = [['김미희',89,78,99],['서대희',67,88,77],['강예진',100,55,96]]\n",
    "\n",
    "student_scores = []\n",
    "student_names = []\n",
    "\n",
    "for item in score_list:\n",
    "    student_names.append(item[0])\n",
    "    sum1 = 0\n",
    "    temp = []\n",
    "    for j in range(1,len(item),1):\n",
    "        temp.append(item[j])\n",
    "        sum1 += item[j]\n",
    "    temp.append(sum1 // 3 )\n",
    "    temp.append(grade(sum1 // 3))\n",
    "    student_scores.append(temp)\n",
    "\n",
    "print (student_scores)\n",
    "student_names.append('평균')\n",
    "for i in student_scores:\n",
    "    temp = []\n",
    "    student_scores[i][0]\n",
    "\n",
    "\n",
    "score = pd.DataFrame(student_scores, index = student_names, columns = ['Python','Java', 'DB' ,'평균', '학점'])\n",
    "\n",
    "score\n"
   ]
  },
  {
   "cell_type": "code",
   "execution_count": 6,
   "id": "87b00908-e459-4815-90d5-cc77f909f1e7",
   "metadata": {},
   "outputs": [
    {
     "data": {
      "text/html": [
       "<div>\n",
       "<style scoped>\n",
       "    .dataframe tbody tr th:only-of-type {\n",
       "        vertical-align: middle;\n",
       "    }\n",
       "\n",
       "    .dataframe tbody tr th {\n",
       "        vertical-align: top;\n",
       "    }\n",
       "\n",
       "    .dataframe thead th {\n",
       "        text-align: right;\n",
       "    }\n",
       "</style>\n",
       "<table border=\"1\" class=\"dataframe\">\n",
       "  <thead>\n",
       "    <tr style=\"text-align: right;\">\n",
       "      <th></th>\n",
       "      <th>이름</th>\n",
       "      <th>Python</th>\n",
       "      <th>Java</th>\n",
       "      <th>DB</th>\n",
       "      <th>평균</th>\n",
       "      <th>학점</th>\n",
       "    </tr>\n",
       "  </thead>\n",
       "  <tbody>\n",
       "    <tr>\n",
       "      <th>0</th>\n",
       "      <td>김미희</td>\n",
       "      <td>89</td>\n",
       "      <td>78</td>\n",
       "      <td>99</td>\n",
       "      <td>88</td>\n",
       "      <td>B</td>\n",
       "    </tr>\n",
       "    <tr>\n",
       "      <th>1</th>\n",
       "      <td>서대희</td>\n",
       "      <td>67</td>\n",
       "      <td>88</td>\n",
       "      <td>77</td>\n",
       "      <td>77</td>\n",
       "      <td>C</td>\n",
       "    </tr>\n",
       "    <tr>\n",
       "      <th>2</th>\n",
       "      <td>강예진</td>\n",
       "      <td>100</td>\n",
       "      <td>55</td>\n",
       "      <td>96</td>\n",
       "      <td>83</td>\n",
       "      <td>B</td>\n",
       "    </tr>\n",
       "    <tr>\n",
       "      <th>3</th>\n",
       "      <td>평균</td>\n",
       "      <td>85</td>\n",
       "      <td>73</td>\n",
       "      <td>90</td>\n",
       "      <td></td>\n",
       "      <td></td>\n",
       "    </tr>\n",
       "  </tbody>\n",
       "</table>\n",
       "</div>"
      ],
      "text/plain": [
       "    이름  Python  Java  DB  평균 학점\n",
       "0  김미희      89    78  99  88  B\n",
       "1  서대희      67    88  77  77  C\n",
       "2  강예진     100    55  96  83  B\n",
       "3   평균      85    73  90       "
      ]
     },
     "execution_count": 6,
     "metadata": {},
     "output_type": "execute_result"
    }
   ],
   "source": [
    "score_list = [['김미희', 89, 78, 99],\n",
    "              ['서대희', 67, 88, 77],\n",
    "              ['강예진', 100, 55, 96]]\n",
    "\n",
    "# Calculate averages and grades\n",
    "for student in score_list: # 반복 \n",
    "    name = student[0]\n",
    "    average = sum(student[1:]) / 3\n",
    "    student.append(int(average))  # Append average to the list\n",
    "    if average >= 90:\n",
    "        student.append(\"A\")\n",
    "    elif average >= 80:\n",
    "        student.append(\"B\")\n",
    "    elif average >= 70:\n",
    "        student.append(\"C\")\n",
    "    elif average >= 60:\n",
    "        student.append(\"D\")\n",
    "    else:\n",
    "        student.append(\"F\")\n",
    "\n",
    "# Calculate subject averages\n",
    "python_avg = sum(student[1] for student in score_list) / len(score_list)\n",
    "java_avg = sum(student[2] for student in score_list) / len(score_list)\n",
    "db_avg = sum(student[3] for student in score_list) / len(score_list)\n",
    "\n",
    "# Add the averages as the last row\n",
    "score_list.append([\"평균\", int(python_avg), int(java_avg), int(db_avg), \"\", \"\"])\n",
    "\n",
    "# Create a DataFrame\n",
    "columns = [\"이름\", \"Python\", \"Java\", \"DB\", \"평균\", \"학점\"]\n",
    "df_score = pd.DataFrame(score_list, columns = columns)\n",
    "\n",
    "df_score"
   ]
  },
  {
   "cell_type": "markdown",
   "id": "1f1e07a5-3ca3-44d6-876a-76e821a66ccd",
   "metadata": {},
   "source": [
    "# 문제5"
   ]
  },
  {
   "cell_type": "code",
   "execution_count": 7,
   "id": "e58257b5-200c-4853-876c-20b74a23bd37",
   "metadata": {},
   "outputs": [
    {
     "data": {
      "image/png": "[encoded data removed]",
      "text/plain": [
       "<Figure size 640x480 with 1 Axes>"
      ]
     },
     "metadata": {},
     "output_type": "display_data"
    }
   ],
   "source": [
    "# 문제 5\n",
    "X = [2, 3, 4, 5, 6, 7, 8]\n",
    "Y1 = [5, 7, 3, 9, 1, 8, 6]\n",
    "Y2 = [9, 5, 7, 2, 3, 7, 1]\n",
    "\n",
    "plt.plot(X, Y1, color='red', label='Y1')\n",
    "plt.plot(X, Y2, color='blue', label='Y2')\n",
    "\n",
    "plt.grid(True) \n",
    "plt.legend()  \n",
    "plt.show()"
   ]
  },
  {
   "cell_type": "markdown",
   "id": "e513f5c3-6f4b-42b8-8998-4d201d18f03f",
   "metadata": {},
   "source": [
    "# 문제6"
   ]
  },
  {
   "cell_type": "code",
   "execution_count": 8,
   "id": "624b495e-56fb-445d-bcf2-eb17f0fdc97d",
   "metadata": {},
   "outputs": [
    {
     "name": "stdout",
     "output_type": "stream",
     "text": [
      "['일', '월', '화', '수', '목', '금', '토']\n",
      "Categories (7, object): ['월' < '화' < '수' < '목' < '금' < '토' < '일']\n"
     ]
    },
    {
     "name": "stderr",
     "output_type": "stream",
     "text": [
      "C:\\Users\\smhrd\\AppData\\Local\\Temp\\ipykernel_1044\\2167212157.py:10: SettingWithCopyWarning: \n",
      "A value is trying to be set on a copy of a slice from a DataFrame.\n",
      "Try using .loc[row_indexer,col_indexer] = value instead\n",
      "\n",
      "See the caveats in the documentation: https://pandas.pydata.org/pandas-docs/stable/user_guide/indexing.html#returning-a-view-versus-a-copy\n",
      "  y_array['요일'] = pd.Categorical(y_array['요일'], categories = weekday_order, ordered = True)\n"
     ]
    },
    {
     "data": {
      "image/png": "[encoded data removed]",
      "text/plain": [
       "<Figure size 640x480 with 1 Axes>"
      ]
     },
     "metadata": {},
     "output_type": "display_data"
    }
   ],
   "source": [
    "#문제6\n",
    "\n",
    "ta_2017 = pd.read_csv('./data/Traffic_Accident_2017.csv' ,encoding = 'EUC-KR')\n",
    "data = ta_2017[['발생년','요일', '주야', '사고유형_대분류', '사고유형_중분류', '사고유형', '사망자수']]\n",
    "y_array = data[(data['주야'] == '야간') & (data['사고유형_대분류'] == '차대사람')]\n",
    "\n",
    "\n",
    "# 요일 순서 지정\n",
    "weekday_order = ['월', '화', '수', '목', '금', '토', '일']\n",
    "y_array['요일'] = pd.Categorical(y_array['요일'], categories = weekday_order, ordered = True)\n",
    "\n",
    "print(y_array['요일'].unique())\n",
    "\n",
    "y_array['요일'].value_counts().sort_index().plot(kind = 'bar',\n",
    "                                                           xlabel = \"요일\",\n",
    "                                                           ylabel = '사고 건수',width=0.8 ,rot = 0)\n",
    "\n",
    "\n",
    "plt.ylim(0,200)\n",
    "plt.title('요일별 야간 차대사람 교통사고 건수')\n",
    "\n",
    "plt.show()"
   ]
  }
 ],
 "metadata": {
  "kernelspec": {
   "display_name": "Python 3 (ipykernel)",
   "language": "python",
   "name": "python3"
  },
  "language_info": {
   "codemirror_mode": {
    "name": "ipython",
    "version": 3
   },
   "file_extension": ".py",
   "mimetype": "text/x-python",
   "name": "python",
   "nbconvert_exporter": "python",
   "pygments_lexer": "ipython3",
   "version": "3.12.7"
  }
 },
 "nbformat": 4,
 "nbformat_minor": 5
}
